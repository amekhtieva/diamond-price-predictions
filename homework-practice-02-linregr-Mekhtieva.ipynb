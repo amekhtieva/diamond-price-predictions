{
 "cells": [
  {
   "cell_type": "markdown",
   "metadata": {
    "id": "VJEZ8P61An7I"
   },
   "source": [
    "# Лабораторная работа 2\n",
    "\n",
    "## Линейная регрессия"
   ]
  },
  {
   "cell_type": "markdown",
   "metadata": {
    "id": "5kOKUEqSSU5j"
   },
   "source": [
    "## Часть 1: Приближаем функции\n"
   ]
  },
  {
   "cell_type": "markdown",
   "metadata": {
    "id": "y3OmO16EAn7M"
   },
   "source": [
    "### Метод наименьших квадратов: постановка задачи\n",
    "\n",
    "Рассмотрим систему уравнений $Xa = y$, в которой $a$ — столбец неизвестных. Её можно переписать в векторном виде\n",
    "$$x_1 a_1 + x_2 a_2 + \\ldots + x_k a_k = y,$$\n",
    "где $x_1,\\ldots,x_k$ — столбцы матрицы $X$. Таким образом, решить исходную систему означает найти линейную комбинацию векторов $x_1,\\ldots,x_k$, равную правой части. Но что делать, если такой линейной комбинации не существует? Геометрически это означает, что вектор $y$ не лежит в подпространстве $U = \\langle x_1,\\ldots, x_k\\rangle$. В этом случае мы можем найти *псевдорешение*: вектор коэффициентов $\\hat{a}$, для которого линейная комбинация $x_1 \\hat{a}_1 + x_2 \\hat{a}_2 + \\ldots + x_k \\hat{a}_k$ хоть и не равна в точности $y$, но является наилучшим приближением — то есть ближайшей к $y$ точкой $\\hat{y}$ подпространства $U$ (иными словами, ортогональной проекцией $y$ на это подпростанство). Итак, цель наших исканий можно сформулировать двумя эквивалентными способами:\n",
    "\n",
    "1. Найти вектор $\\hat{a}$, для которого длина разности $|X\\hat{a} - y|$ минимальна;\n",
    "2. Найти ортогональную проекцию $\\hat{y}$ вектора $y$ на подпространство $U$ и представить её в виде $X\\hat{a}$.\n",
    "\n",
    "Далее мы будем предполагать, что векторы $x_1,\\ldots,x_k$ линейно независимы (если нет, то сначала имеет смысл выделить максимальную линейно независимую подсистему).\n",
    "\n",
    "На лекциях было показано, что проекция вектора $y$ на подпространство $U = \\langle x_1,\\ldots, x_k\\rangle$, записывается в виде\n",
    "$$\\hat{y} = X\\left(X^TX\\right)^{-1}X^Ty,$$\n",
    "и, соответственно, искомый вектор $\\hat{a}$ равен\n",
    "$$\\hat{a} = \\left(X^TX\\right)^{-1}X^Ty.$$"
   ]
  },
  {
   "cell_type": "markdown",
   "metadata": {
    "id": "Wbh4XI_BAn7P"
   },
   "source": [
    "### Задача линейной регрессии\n",
    "\n",
    "Начнём с примера. Допустим, вы хотите найти зависимость среднего балла S студента ФКН от его роста H, веса W, длины волос L и N — количества часов, которые он ежедневно посвящает учёбе. Представьте, что мы измерили все эти параметры для $n$ студентов и получили наборы значений: $S_1,\\ldots, S_n$, $H_1,\\ldots, H_n$ и так далее.\n",
    "\n",
    "Теперь мы хотим построить **модель**, т.е. определить алгоритм, который будет принимать на вход некоторый набор параметров (в данном случае это измеренные нами $H, W, L$ и $N$), и выдавать значение некоторой **целевой переменной** (в данном примере это $S$). Тут можно подбирать много разных умных моделей, но начать имеет смысл с самой простой, линейной:\n",
    "\n",
    "$$S = a_0 + a_1H + a_2W + a_3L + a_4N.$$\n",
    "\n",
    "Конечно, строгой линейной зависимости нет (иначе можно было бы радостно упразднить экзамены), но мы можем попробовать подобрать коэффициенты $a_0, a_1, a_2, a_3, a_4$, удовлетворяющие вот такому требованию:\n",
    "$$\\sum_{i=1}^n\\left(S_i - ( a_0 + a_1H_i + a_2W_i + a_3L_i + a_4N_i)\\right)^2 \\longrightarrow \\min$$\n",
    "Т.е. мы хотим, чтобы квадрат отклонения правой части от левой был поменьше для всех $n$ студентов. Введём несколько обозначений:\n",
    "$$X =\n",
    "\\begin{pmatrix}\n",
    "1 & H_1 & W_1 & L_1 & N_1\\\\\n",
    "1 & H_2 & W_2 & L_2 & N_2\\\\\n",
    "\\vdots & \\vdots & \\vdots & \\vdots & \\vdots \\\\\n",
    "1 & H_n & W_n & L_n & N_n\n",
    "\\end{pmatrix}, \\qquad a=\n",
    "\\begin{pmatrix}\n",
    "a_0\\\\ a_1\\\\ \\vdots\\\\ a_4\n",
    "\\end{pmatrix},\\qquad y=\n",
    "\\begin{pmatrix}\n",
    "S_1\\\\ S_2\\\\ \\vdots \\\\ S_n\n",
    "\\end{pmatrix}.$$\n",
    "\n",
    "Теперь наше требование выше можно переписать в таком виде:\n",
    "$$\n",
    "\\sum_{i=1}^n\\left(S_i - ( a_0 + a_1H_i + a_2W_i + a_3L_i + a_4N_i)\\right)^2 = |y - Xa|^2 \\longrightarrow \\min\n",
    "$$\n",
    "\n",
    "И теперь видно, что мы получили задачу на метод наименьших квадратов!\n",
    "Решая эту задачу с помощью уже известных формул, получаем оценки коэффициентов $\\hat{a}_i$ ($i = 1\\ldots,5$)."
   ]
  },
  {
   "cell_type": "markdown",
   "metadata": {
    "id": "v76yazhJAn7R"
   },
   "source": [
    "Теперь проговорим общую постановку задачи линейной регрессии. У нас есть $k$ переменных $x_1,\\ldots,x_k$ (\"регрессоров\"), через которые мы хотим выразить \"объясняемую переменную\" $y$:\n",
    "$$y = a_1x_1 + a_2x_2 + \\ldots + a_kx_k$$\n",
    "Значения всех переменных мы измерили $n$ раз (у $n$ различных объектов,  в $n$ различных моментов времени - это зависит от задачи). Подставим эти данные в предыдущее равенство:\n",
    "$$\\begin{pmatrix}\n",
    "y_1\\\\ y_2 \\\\ \\vdots \\\\ y_n\n",
    "\\end{pmatrix} = \n",
    "a_1\\begin{pmatrix}\n",
    "x_{11} \\\\ x_{21} \\\\ \\vdots \\\\ x_{n1} \\end{pmatrix} + a_2\\begin{pmatrix}\n",
    "x_{12} \\\\ x_{22} \\\\ \\vdots \\\\ x_{n2} \\end{pmatrix} + \\ldots + a_k\\begin{pmatrix}\n",
    "x_{1k} \\\\ x_{2k} \\\\ \\vdots \\\\ x_{nk} \\end{pmatrix}$$\n",
    "(здесь $x_{ij}$ - это значение $j$-го признака на $i$-м измерении). Это удобно переписать в матричном виде:\n",
    "$$\\begin{pmatrix}\n",
    "x_{11} & x_{12} & \\ldots & x_{1k}\\\\\n",
    "x_{21} & x_{22} & \\ldots & x_{2k}\\\\\n",
    "\\dots & \\dots & \\dots & \\dots\\\\\n",
    "x_{n1} & x_{n2} & \\ldots & x_{nk}\n",
    "\\end{pmatrix} \\cdot\n",
    "\\begin{pmatrix}\n",
    "a_1 \\\\ a_2 \\\\ \\vdots \\\\ a_k\n",
    "\\end{pmatrix} = \n",
    "\\begin{pmatrix}\n",
    "y_1 \\\\ y_2 \\\\ \\vdots \\\\ y_n\n",
    "\\end{pmatrix}$$\n",
    "или коротко $Xa = y$. Поскольку на практике эта система уравнений зачастую не имеет решения (ибо зависимости в жизни редко бывают действительно линейными), методом наименьших квадратов ищется псевдорешение."
   ]
  },
  {
   "cell_type": "markdown",
   "metadata": {
    "id": "kDX5t_BxAn7T"
   },
   "source": [
    "### Оценка качества. Обучение и тест \n",
    "\n",
    "После того, как вы построили регрессию и получили какую-то зависимость объясняемой переменной от регрессоров, настаёт время оценить качество регрессии. Есть много разных функционалов качества; мы пока будем говорить только о самом простом и очевидном из них: о среднеквадратичной ошибке (mean square error). Она равна\n",
    "$$\\frac1{n}|X\\hat{a} - y|^2 = \\frac1{n}\\sum_{i=1}^n\\left(\\hat{a}_1x_{i1} + \\hat{a}_2x_{i2} + \\ldots + \\hat{a}_kx_{ik} - y_i\\right)^2$$\n",
    "\n",
    "В целом, хочется искать модели с наименьшей mean square error на имеющихся данных. Однако слишком фанатичная гонка за минимизацией ошибки может привести к печальным последствиям, в чём Вам предстоит убедиться в ходе выполнения этой лабораторной.\n",
    "\n",
    "Чтобы не попадать в эту ловушку, данные обычно делят на обучающие (по которым строят модель и оценивают коэффициенты) и тестовые. Лучшей стоит счесть ту модель, для которой значение функционала качества будет меньше."
   ]
  },
  {
   "cell_type": "markdown",
   "metadata": {
    "id": "CMrD0HArAn7T"
   },
   "source": [
    "### Правила оформления графиков\n",
    "При работе с данными часто неудобно делать какие-то выводы, если смотреть на таблицу и числа в частности, поэтому важно уметь визуализировать данные. \n",
    "\n",
    "У matplotlib, конечно же, есть [документация](https://matplotlib.org/users/index.html) с большим количеством [примеров](https://matplotlib.org/examples/), но для начала достаточно знать про несколько основных типов графиков:\n",
    "- plot — обычный поточечный график, которым можно изображать кривые или отдельные точки;\n",
    "- hist — гистограмма, показывающая распределение некоторой величины;\n",
    "- scatter — график, показывающий взаимосвязь двух величин;\n",
    "- bar — столбцовый график, показывающий взаимосвязь количественной величины от категориальной.\n",
    "\n",
    "Ещё одна билиотека для визуализации: [seaborn](https://jakevdp.github.io/PythonDataScienceHandbook/04.14-visualization-with-seaborn.html). Это надстройка над matplotlib, иногда удобнее и красивее делать визуализации через неё. \n",
    "\n",
    "При выполнении этой лабораторной Вы столкнётесь с необходимостью рисовать большое количество графиков. Не забывайте про базовые принципы построения приличных графиков:\n",
    "- оси должны быть подписаны, причём не слишком мелко;\n",
    "- у графика должно быть название;\n",
    "- если изображено несколько графиков, то необходима поясняющая легенда;\n",
    "- для точек из разных выборок необходимо использовать разные цвета;\n",
    "- все линии на графиках должны быть чётко видны (нет похожих цветов или цветов, сливающихся с фоном);\n",
    "- если отображена величина, имеющая очевидный диапазон значений (например, проценты могут быть от 0 до 100), то желательно масштабировать ось на весь диапазон значений (исключением является случай, когда вам необходимо показать малое отличие, которое незаметно в таких масштабах).\n",
    "\n",
    "Помните, что проверяющий имеет право снизить оценку за неопрятные графики."
   ]
  },
  {
   "cell_type": "markdown",
   "metadata": {
    "id": "3Ivj-lm0An7U"
   },
   "source": [
    "### Формат сдачи\n",
    "Задания сдаются через систему Anytask. Инвайт можно найти на странице курса. Присылать необходимо ноутбук с выполненным заданием. Сам ноутбук называйте в формате homework-practice-02-linregr-Username.ipynb, где Username — Ваша фамилия."
   ]
  },
  {
   "cell_type": "markdown",
   "metadata": {
    "id": "sgYTlfJlAn7W"
   },
   "source": [
    "### Задание 1. Метод наименьших квадратов (3.1 баллов)\n",
    "\n",
    "**ВАЖНО! В этом задании вам нельзя использовать циклы (в том числе рекурсии, генераторы и конструкции вида map/reduce), кроме цикла в задании 1.5, который мы вам оставили. За наличие цикла в вашем коде мы поставим вам не более половины от стоимости задания.**"
   ]
  },
  {
   "cell_type": "markdown",
   "metadata": {
    "id": "h_HVV2__An7W"
   },
   "source": [
    "Скачайте файлы ``train.txt`` и ``test.txt``. Каждый из файлов содержит два столбца чисел, разделённых пробелами: в первом — некоторое число точек (значения аргумента $x$), во втором — значения некоторой функции $y = f(x)$ в этих точках, искажённые случайным шумом. Функцию $f$ мы вам не скажем. Ваша задача — по данным из файла ``train.txt`` (будем называть их обучающей выборкой) подобрать функцию $y = g(x)$, пристойно приближающую неизвестную вам зависимость."
   ]
  },
  {
   "cell_type": "markdown",
   "metadata": {
    "id": "qhI6CxL0An7Y"
   },
   "source": [
    "Загрузим обучающие и тестовые данные (из файла ``test.txt``)."
   ]
  },
  {
   "cell_type": "code",
   "execution_count": 306,
   "metadata": {
    "id": "ca7tXdbiAn7Z"
   },
   "outputs": [],
   "source": [
    "import numpy as np\n",
    "from os.path import join\n",
    "\n",
    "PATH = \"./\" ### Вставить заглушку (не забудьте ввести правильный путь!)\n",
    "\n",
    "data_train = np.loadtxt(join(PATH, \"train.txt\"), delimiter=',')\n",
    "data_test = np.loadtxt(join(PATH, \"test.txt\"), delimiter=',')"
   ]
  },
  {
   "cell_type": "markdown",
   "metadata": {
    "id": "k3GshOvnAn7b"
   },
   "source": [
    "**0. [0 баллов]** Разделим значения $x$ и $y$"
   ]
  },
  {
   "cell_type": "code",
   "execution_count": 307,
   "metadata": {
    "id": "1BIIDVGjAn7b"
   },
   "outputs": [],
   "source": [
    "X_train = data_train[:,0]\n",
    "y_train = data_train[:,1]\n",
    "\n",
    "# Сделайте то же для тестовой выборки\n",
    "#╰( ͡° ͜ʖ ͡° )つ──☆*:・ﾟ\n",
    "X_test = data_test[:,0]\n",
    "y_test = data_test[:,1]"
   ]
  },
  {
   "cell_type": "markdown",
   "metadata": {
    "id": "PRLl0nkWAn7c"
   },
   "source": [
    "**1. [0,15 балла]** Найдите с помощью метода наименьших квадратов линейную функцию $y = kx + b$, наилучшим образом приближающую неизвестную зависимость. Полезные функции: ``numpy.ones(n)`` для создания массива из единиц длины $n$ и ``numpy.concatenate((А, В), axis=1)`` для слияния двух матриц по столбцам (пара ``А`` и ``В`` превращается в матрицу ``[A B]``). Напечатайте этот многочлен в виде $kx+b$."
   ]
  },
  {
   "cell_type": "code",
   "execution_count": 308,
   "metadata": {
    "id": "qTMuTy7IAn7d"
   },
   "outputs": [
    {
     "name": "stdout",
     "output_type": "stream",
     "text": [
      "4.048356078106742 * x + 2.4539322330626545\n"
     ]
    }
   ],
   "source": [
    "#╰( ͡° ͜ʖ ͡° )つ──☆*:・ﾟ\n",
    "import scipy.linalg as sla\n",
    "\n",
    "\n",
    "X = np.concatenate((np.ones((X_train.size, 1)), np.array([X_train]).T), axis=1)\n",
    "a = np.dot(np.dot(sla.inv(np.dot(X.T, X)), X.T), y_train)\n",
    "print(a[1], '* x +', a[0])"
   ]
  },
  {
   "cell_type": "markdown",
   "metadata": {
    "id": "Bnburua6An7e"
   },
   "source": [
    "**2. [0,15 балла]** Нарисуйте на плоскости точки $(x_i, y_i)$ из обеих выборок и полученную линейную функцию."
   ]
  },
  {
   "cell_type": "code",
   "execution_count": 314,
   "metadata": {
    "id": "Um_XtCIRAn7e"
   },
   "outputs": [
    {
     "data": {
      "image/png": "[encoded data removed]",
      "text/plain": [
       "<Figure size 432x288 with 1 Axes>"
      ]
     },
     "metadata": {
      "needs_background": "light"
     },
     "output_type": "display_data"
    }
   ],
   "source": [
    "#╰( ͡° ͜ʖ ͡° )つ──☆*:・ﾟ\n",
    "import matplotlib.pyplot as plt\n",
    "\n",
    "x = np.linspace(-1, 2, 100)\n",
    "y = a[0] + a[1] * x\n",
    "plt.title('y = 4.048356078106742 * x + 2.4539322330626545')\n",
    "plt.xlabel(\"Ось x\")\n",
    "plt.ylabel(\"Ось y\")\n",
    "plt.plot(x, y)\n",
    "plt.plot(X_train, y_train, '.', color='m')\n",
    "plt.plot(X_test, y_test, '.', color='r')\n",
    "plt.axis([-1, 1, -4, 7.5])\n",
    "plt.show()"
   ]
  },
  {
   "cell_type": "markdown",
   "metadata": {},
   "source": [
    "фиолетовые точки - точки из обучающей выборки, красные - из тестовой"
   ]
  },
  {
   "cell_type": "markdown",
   "metadata": {
    "id": "crzpARViAn7f"
   },
   "source": [
    "**3. [0,4 балла]** Глядя на данные, подумайте, многочленом какой степени можно было бы лучше всего приблизить эту функцию с точки зрения минимизации среднеквадратичной ошибки на обучающей выборке. Найдите этот многочлен и сохраните его коэффициенты в массив `poly_coef` (от младшего члена к старшему). Обязательно обоснуйте выбор степени многочлена."
   ]
  },
  {
   "cell_type": "markdown",
   "metadata": {},
   "source": [
    "В обучающей выборке 23 точки, тогда можно взять многочлен 22 степени, так как у него 23 коэффициента, а значит уравнений на коэффициенты будет столько же, сколько и коэффициентов, тогда мы найдем многочлен, на котором лежат все наши точки."
   ]
  },
  {
   "cell_type": "code",
   "execution_count": 32,
   "metadata": {
    "id": "PSywLPifAn7g"
   },
   "outputs": [
    {
     "name": "stdout",
     "output_type": "stream",
     "text": [
      "[-5.48927244e+02 -6.14630786e+03  1.39862525e+05 -1.18645226e+05\n",
      " -5.21074306e+06  1.05245347e+07  8.93728256e+07 -2.08485003e+08\n",
      " -8.92062022e+08  2.06325055e+09  5.70522596e+09 -1.19453825e+10\n",
      " -2.43892055e+10  4.27058633e+10  7.04032735e+10 -9.50455995e+10\n",
      " -1.35000667e+11  1.27622369e+11  1.63800585e+11 -9.41577432e+10\n",
      " -1.12998999e+11  2.91738267e+10  3.35217357e+10]\n"
     ]
    }
   ],
   "source": [
    "#╰( ͡° ͜ʖ ͡° )つ──☆*:・ﾟ\n",
    "\n",
    "poly_coef = sla.solve(np.array([np.ones(X_train.size), X_train, X_train ** 2, X_train ** 3, X_train ** 4,\n",
    "                                X_train ** 5, X_train ** 6, X_train ** 7, X_train ** 8, X_train ** 9, X_train ** 10,\n",
    "                                X_train ** 11, X_train ** 12, X_train ** 13, X_train ** 14, X_train ** 15,\n",
    "                                X_train ** 16, X_train ** 17, X_train ** 18, X_train ** 19, X_train ** 20,\n",
    "                                X_train ** 21, X_train ** 22]).T, y_train)\n",
    "print(poly_coef)"
   ]
  },
  {
   "cell_type": "markdown",
   "metadata": {
    "id": "bVlu8GtRAn7h"
   },
   "source": [
    "**4. [0,15 балла]** Нарисуйте его график на одном чертеже вместе с точками $(x_i, y_i)$ из обеих выборок. Удалось ли графику пройти через все точки из выборки? Попробуйте объяснить, почему?"
   ]
  },
  {
   "cell_type": "code",
   "execution_count": 315,
   "metadata": {
    "id": "2EjDMWVQAn7i"
   },
   "outputs": [
    {
     "data": {
      "image/png": "[encoded data removed]",
      "text/plain": [
       "<Figure size 432x288 with 1 Axes>"
      ]
     },
     "metadata": {
      "needs_background": "light"
     },
     "output_type": "display_data"
    }
   ],
   "source": [
    "#╰( ͡° ͜ʖ ͡° )つ──☆*:・ﾟ\n",
    "\n",
    "x =  np.linspace(-1, 1, 100)\n",
    "y = (poly_coef[0] + poly_coef[1] * x + poly_coef[2] * x ** 2 + poly_coef[3] * x ** 3 + poly_coef[4] * x ** 4\n",
    "    + poly_coef[5] * x ** 5 + poly_coef[6] * x ** 6 + poly_coef[7] * x ** 7 + poly_coef[8] * x ** 8 \n",
    "    + poly_coef[9] * x ** 9 + poly_coef[10] * x ** 10 + poly_coef[11] * x ** 11 + poly_coef[12] * x ** 12\n",
    "    + poly_coef[13] * x ** 13 + poly_coef[14] * x ** 14 + poly_coef[15] * x ** 15 + poly_coef[16] * x ** 16\n",
    "    + poly_coef[17] * x ** 17 + poly_coef[18] * x ** 18 + poly_coef[19] * x ** 19 + poly_coef[20] * x ** 20\n",
    "    + poly_coef[21] * x ** 21 + poly_coef[22] * x ** 22)\n",
    "plt.plot(x, y)\n",
    "\n",
    "plt.title('Приближение многочленом 22 степени')\n",
    "plt.xlabel(\"Ось x\")\n",
    "plt.ylabel(\"Ось y\")\n",
    "plt.plot(X_train, y_train, '.', color='m')\n",
    "plt.plot(X_test, y_test, '.', color='r')\n",
    "plt.axis([-1, 1, -4, 7.5])\n",
    "plt.show()"
   ]
  },
  {
   "cell_type": "markdown",
   "metadata": {},
   "source": [
    "фиолетовые точки - точки из обучающей выборки, красные - из тестовой"
   ]
  },
  {
   "cell_type": "markdown",
   "metadata": {},
   "source": [
    "Графику удалось пройти через все точки из выборки, потому что мы так подобрали многочлен, что он проходит через все нужные точки."
   ]
  },
  {
   "cell_type": "markdown",
   "metadata": {
    "id": "mlVLDqILAn7j"
   },
   "source": [
    "**5. [0,5 балла]** Для $k = 1,2,3,\\ldots,10$ найдите многочлен $\\hat{f}_k$ степени $k$, наилучшим образом приближающий неизвестную зависимость. Сохраните найденные коэффициенты многочленов в матрицу `poly_coefs` (коэффициенты многочлена степени $j$ должны быть сохранены в $j$-й строке матрицы от младшего члена к старшему)."
   ]
  },
  {
   "cell_type": "code",
   "execution_count": 316,
   "metadata": {
    "id": "_kz4i82kAn7j"
   },
   "outputs": [
    {
     "name": "stdout",
     "output_type": "stream",
     "text": [
      "[[   2.45393223    4.04835608    0.            0.            0.\n",
      "     0.            0.            0.            0.            0.\n",
      "     0.        ]\n",
      " [   2.5694219     4.01015943   -0.3551553     0.            0.\n",
      "     0.            0.            0.            0.            0.\n",
      "     0.        ]\n",
      " [   2.54688319    4.7869345    -0.41165762   -1.41634742    0.\n",
      "     0.            0.            0.            0.            0.\n",
      "     0.        ]\n",
      " [   3.25302411    4.49788737   -6.92753076   -0.76232916    7.97572932\n",
      "     0.            0.            0.            0.            0.\n",
      "     0.        ]\n",
      " [   3.11521784    6.42425264   -6.36050064  -11.18097856    7.592385\n",
      "    10.50504691    0.            0.            0.            0.\n",
      "     0.        ]\n",
      " [   3.07558089    6.47067818   -5.70379442  -11.41476149    5.49711076\n",
      "    10.73774703    1.6944096     0.            0.            0.\n",
      "     0.        ]\n",
      " [   3.14869778    5.21297457   -5.66934112    1.33536686    3.71785229\n",
      "   -21.42004699    3.83322656   22.823169      0.            0.\n",
      "     0.        ]\n",
      " [   3.24466754    5.18522939   -8.3014978     1.65948032   19.20270717\n",
      "   -22.7244493   -26.33288409   24.04926978   18.41614417    0.\n",
      "     0.        ]\n",
      " [   3.18389378    7.10148499   -9.04619474  -26.91426505   26.21711065\n",
      "    98.05747753  -42.241944   -167.43171911   29.05451076  101.62831879\n",
      "     0.        ]\n",
      " [   3.0160899     7.24778438   -1.68504168  -31.53291274  -43.94152281\n",
      "   123.53146722  196.28709632 -213.90620485 -301.0532762   128.63909462\n",
      "   159.31729792]]\n"
     ]
    }
   ],
   "source": [
    "poly_coefs = np.zeros((10, 11))\n",
    "A = np.array([np.ones(X_train.size), X_train, X_train ** 2, X_train ** 3, X_train ** 4, \n",
    "             X_train ** 5, X_train ** 6, X_train ** 7, X_train ** 8, X_train ** 9, X_train ** 10]).T\n",
    "\n",
    "for k in range(10):\n",
    "  #╰( ͡° ͜ʖ ͡° )つ──☆*:・ﾟ\n",
    "    Ai = A[:, :k + 2]\n",
    "    poly_coefs[k] = np.concatenate((np.array([np.dot(np.dot(sla.inv(np.dot(Ai.T, Ai)), Ai.T), y_train)]), np.zeros((1, 9 - k))), axis=1)\n",
    "    \n",
    "print(poly_coefs)\n",
    "\n",
    "\n",
    "\n",
    "# Простая проверка, что матрица poly_coefs имеет столько строк, сколько нужно\n",
    "assert poly_coefs.shape[0] == 10"
   ]
  },
  {
   "cell_type": "markdown",
   "metadata": {
    "id": "XZm2UpUEAn7k"
   },
   "source": [
    "**6. [0,6 балл]** Для каждого из многочленов из задания 1.5, а также для многочлена из задания 1.4 найдите среднеквадратическую ошибку на обучающих данных и на тестовых данных: $\\frac1{n}\\sum_{i=1}^n\\left( \\hat{f}_k(x_i) - y_i \\right)^2$. Полученные значения ошибок сохраните в матрицу `errors` высоты 11 и ширины 2. В первом столбце матрицы должны стоять значения ошибок на тренировочных данных, во втором --- на тестовых. В первых 10 строках матрицы должны стоять значения ошибок для многочленов соответствующих степений из задания 1.5, в 11-й строке --- значение ошибки для многочлена из задания 1.4."
   ]
  },
  {
   "cell_type": "code",
   "execution_count": 317,
   "metadata": {
    "id": "byyH4arFAn7k"
   },
   "outputs": [
    {
     "name": "stdout",
     "output_type": "stream",
     "text": [
      "[[7.00912588e-01 1.64930169e+00]\n",
      " [6.91992919e-01 1.56859711e+00]\n",
      " [6.53662070e-01 1.48196170e+00]\n",
      " [4.52989800e-01 2.25266387e+00]\n",
      " [3.69973832e-01 2.41600793e+00]\n",
      " [3.69614394e-01 2.49195289e+00]\n",
      " [3.54844465e-01 3.18560667e+00]\n",
      " [3.52453365e-01 3.59296147e+00]\n",
      " [3.38277875e-01 5.26186318e+00]\n",
      " [3.32784411e-01 7.99284845e+00]\n",
      " [1.03304329e-10 6.65765060e+14]]\n"
     ]
    }
   ],
   "source": [
    "#╰( ͡° ͜ʖ ͡° )つ──☆*:・ﾟ\n",
    "\n",
    "errors = np.sum((np.dot(A, poly_coefs.T) - np.array([y_train] * 10).T) ** 2, axis=0) / 23\n",
    "\n",
    "A_test = np.array([np.ones(X_test.size), X_test, X_test ** 2, X_test ** 3, X_test ** 4, \n",
    "             X_test ** 5, X_test ** 6, X_test ** 7, X_test ** 8, X_test ** 9, X_test ** 10]).T\n",
    "errors = np.concatenate(([errors], [np.sum((np.dot(A_test, poly_coefs.T) - np.array([y_test] * 10).T) ** 2,\n",
    "                                           axis=0) / 24]))\n",
    "errors = errors.T\n",
    "\n",
    "my_errors = [np.sum((np.dot(np.array([np.ones(X_train.size), X_train, X_train ** 2, X_train ** 3, X_train ** 4,\n",
    "                                X_train ** 5, X_train ** 6, X_train ** 7, X_train ** 8, X_train ** 9, X_train ** 10,\n",
    "                                X_train ** 11, X_train ** 12, X_train ** 13, X_train ** 14, X_train ** 15,\n",
    "                                X_train ** 16, X_train ** 17, X_train ** 18, X_train ** 19, X_train ** 20,\n",
    "                                X_train ** 21, X_train ** 22]).T, poly_coef.T) - y_train.T) ** 2, axis=0) / 23]\n",
    "\n",
    "my_errors.append(np.sum((np.dot(np.array([np.ones(X_test.size), X_test, X_test ** 2, X_test ** 3, X_test ** 4,\n",
    "                                X_test ** 5, X_test ** 6, X_test ** 7, X_test ** 8, X_test ** 9, X_test ** 10,\n",
    "                                X_test ** 11, X_test ** 12, X_test ** 13, X_test ** 14, X_test ** 15,\n",
    "                                X_test ** 16, X_test ** 17, X_test ** 18, X_test ** 19, X_test ** 20,\n",
    "                                X_test ** 21, X_test ** 22]).T, poly_coef.T) - y_test.T) ** 2, axis=0) / 24)\n",
    "errors = np.concatenate((errors, [my_errors]))\n",
    "print(errors)\n"
   ]
  },
  {
   "cell_type": "markdown",
   "metadata": {
    "id": "VKns2ndWAn7l"
   },
   "source": [
    "**7. [0,5 балла]** Для $k = 1,2,3,4,6$ нарисуйте графики полученных многочленов на одном чертеже вместе с точками $(x_i, y_i)$ из обеих выборок (возможно, график стоит сделать побольше; это делается командой `plt.figure(figsize=(width, height))`)."
   ]
  },
  {
   "cell_type": "code",
   "execution_count": 329,
   "metadata": {
    "id": "Vwt574k1An7m"
   },
   "outputs": [
    {
     "data": {
      "image/png": "[encoded data removed]",
      "text/plain": [
       "<Figure size 864x864 with 1 Axes>"
      ]
     },
     "metadata": {
      "needs_background": "light"
     },
     "output_type": "display_data"
    }
   ],
   "source": [
    "#╰( ͡° ͜ʖ ͡° )つ──☆*:・ﾟ\n",
    "\n",
    "plt.figure(figsize=(12, 12))\n",
    "\n",
    "y = poly_coefs[0][0] + poly_coefs[0][1] * x\n",
    "plt.plot(x, y, color='pink')\n",
    "\n",
    "y = poly_coefs[1][0] + poly_coefs[1][1] * x + poly_coefs[1][2] * x ** 2 \n",
    "plt.plot(x, y, color='g')\n",
    "\n",
    "y = poly_coefs[2][0] + poly_coefs[2][1] * x + poly_coefs[2][2] * x ** 2 + poly_coefs[2][3] * x ** 3\n",
    "plt.plot(x, y, color='b')\n",
    "\n",
    "y = poly_coefs[3][0] + poly_coefs[3][1] * x + poly_coefs[3][2] * x ** 2 + poly_coefs[3][3] * x ** 3 + poly_coefs[3][4] * x ** 4\n",
    "plt.plot(x, y, color='c')\n",
    "\n",
    "y = (poly_coefs[5][0] + poly_coefs[5][1] * x + poly_coefs[5][2] * x ** 2 + poly_coefs[5][3] * x ** 3 + poly_coefs[5][4] * x ** 4\n",
    "    + poly_coefs[5][5] * x ** 5 + poly_coefs[5][6] * x ** 6)\n",
    "plt.plot(x, y, color='orange')\n",
    "\n",
    "plt.legend(('k = 1', 'k = 2', 'k = 3', 'k = 4', 'k = 6'))\n",
    "plt.title('Многочлены 1, 2, 3, 4 и 6 степеней')\n",
    "plt.xlabel(\"Ось x\")\n",
    "plt.ylabel(\"Ось y\")\n",
    "plt.plot(X_train, y_train, '.', color='m')\n",
    "plt.plot(X_test, y_test, '.', color='r')\n",
    "plt.axis([-1, 1, -3, 7.5])\n",
    "plt.show()"
   ]
  },
  {
   "cell_type": "markdown",
   "metadata": {},
   "source": [
    "фиолетовые точки - точки из обучающей выборки, красные - из тестовой"
   ]
  },
  {
   "cell_type": "markdown",
   "metadata": {
    "id": "YXMClHOOAn7n"
   },
   "source": [
    "**8. [0,65 балла]** Что происходит с ошибкой на тестовых данных при росте степени многочлена? Казалось бы, чем больше степень, тем более сложным будет многочлен и тем лучше он будет приближать нашу функцию. Подтверждают ли это ваши наблюдения? Как вам кажется, чем объясняется поведение ошибки на тестовых данных при $k = 10$? Как называется наблюдаемый вами эффект?"
   ]
  },
  {
   "cell_type": "markdown",
   "metadata": {
    "id": "-6rGUQMqAn7n"
   },
   "source": [
    "**Ответ:** ╰( ͡° ͜ʖ ͡° )つ──☆*:・ﾟС 1-ой по 3-ю степень многочлена ошибка на тестовых данных убывает, а после начинает расти. Когда мы берем многочлен 10-й степени, мы начинаем слишком сильно зависеть от обучающей выборки, то есть при росте степени мы все больше привязываемся к обучающей выборке и теряем точность на тестовой. Такой эффект называется переобучением."
   ]
  },
  {
   "cell_type": "markdown",
   "metadata": {
    "id": "iwhYglpqSgh1"
   },
   "source": [
    "## Часть 2: Обучаем машины"
   ]
  },
  {
   "cell_type": "markdown",
   "metadata": {
    "id": "KFN99QhUAn7o"
   },
   "source": [
    "### Задание 2. Линейная регрессия (3 балла)"
   ]
  },
  {
   "cell_type": "markdown",
   "metadata": {
    "id": "EIPGe5d0JSgq"
   },
   "source": [
    "В этом задании вам предстоит заняться предсказанием цен на алмазы. Скачайте файл `diamonds_features.csv`, содержащий данные, с которыми вам предстоит работать. Запустите следующую ячейку:"
   ]
  },
  {
   "cell_type": "code",
   "execution_count": 330,
   "metadata": {
    "id": "8_G9QdO6PdP4"
   },
   "outputs": [
    {
     "name": "stdout",
     "output_type": "stream",
     "text": [
      "[['0.8' 'Ideal' 'F' 'VS1' '62.4' '55.0' '5.92' '5.88' '3.68' '3884']\n",
      " ['0.91' 'Premium' 'F' 'SI2' '61.4' '60.0' '6.23' '6.21' '3.82' '3618']\n",
      " ['1.28' 'Premium' 'I' 'VS2' '61.7' '60.0' '7.05' '6.95' '4.32' '6762']\n",
      " ['0.41' 'Very Good' 'F' 'SI1' '61.9' '55.0' '4.78' '4.81' '2.97' '769']\n",
      " ['1.07' 'Premium' 'F' 'SI2' '61.8' '59.0' '6.53' '6.57' '4.05' '4560']]\n"
     ]
    }
   ],
   "source": [
    "data = np.loadtxt(\"diamonds_features.csv\", delimiter=\",\", dtype=\"str\")[1:, :]\n",
    "print(data[:5, :])"
   ]
  },
  {
   "cell_type": "markdown",
   "metadata": {
    "id": "ghn2xvL5P8BK"
   },
   "source": [
    "Мы вывели для вас первые 5 строчек данных. Описания значений в колонках вы можете найти в файле `diamonds_descriptions.txt`.\n",
    "\n",
    "Глобально в этом задании вам предстоит научиться строить модель линейной регрессии для предсказания цены алмаза по его признакам. Данные устроены таким образом, что в каждой строчке располагаются признаки, описывающие объект (алмаз), а в каждой фиксированной колонке --- всевозможные значения конкретного признака для всех объектов в данных."
   ]
  },
  {
   "cell_type": "markdown",
   "metadata": {
    "id": "fJEFOEpJAn7p"
   },
   "source": [
    "**0. [0 баллов]** Разделите выборку на обучающую и тестовую. Делать это лучше случайным образом (ведь вы не знаете, как создатели датасета упорядочили объекты); рекомендуем вам для этого функцию [sklearn.model_selection.train_test_split](https://scikit-learn.org/stable/modules/generated/sklearn.model_selection.train_test_split.html) с параметром `test_size=0.3`. Обязательно зафиксируйте параметр `random_state`."
   ]
  },
  {
   "cell_type": "code",
   "execution_count": 331,
   "metadata": {
    "id": "RoFzvGRBAn7q"
   },
   "outputs": [],
   "source": [
    "#╰( ͡° ͜ʖ ͡° )つ──☆*:・ﾟ\n",
    "from sklearn.model_selection import train_test_split\n",
    "\n",
    "X_train, X_test, y_train, y_test = train_test_split(data[:, :9], data[:, 9:10], test_size=0.3, random_state=40)"
   ]
  },
  {
   "cell_type": "markdown",
   "metadata": {
    "id": "dVO-0MsaTXXT"
   },
   "source": [
    "Теперь у вас есть две выборки, каждая из которых содержит случайное подмножество наших данных. Обучающую выборку мы в дальнейшем будем использовать для обучения модели линейной регрессии, а тестовую, соответственно, для теста.\n",
    "\n",
    "**ВАЖНО: за обучение модели на тестовой выборке будем ставить 0 за весь пункт!**"
   ]
  },
  {
   "cell_type": "markdown",
   "metadata": {
    "id": "JEQLiBg-_zfK"
   },
   "source": [
    "### Работаем с числовыми данными"
   ]
  },
  {
   "cell_type": "markdown",
   "metadata": {
    "id": "bHSfXGDeC0b1"
   },
   "source": [
    "Сейчас ваши данные содержат как привычные вам числовые признаки, описывающие объект, так и категориальные признаки, которые описывают принадлежность объекта к той или иной категории, и в данных представляются строками. Что делать с данными, которые представлены строками --- мы разберёмся чуть позже, а пока давайте забудем, что они у нас есть, и будем работать только с числовыми."
   ]
  },
  {
   "cell_type": "markdown",
   "metadata": {
    "id": "KGGUh0UBEHSG"
   },
   "source": [
    "**0,5. [0 баллов]** Заполните переменные `numeric_features` и `categorical_features` индексами столбцов в данных, содержащих числовые и категориальные признаки соответственно. После этого можно проверить, что массив `data[:, numeric_features]` содержит только числовые данные."
   ]
  },
  {
   "cell_type": "code",
   "execution_count": 332,
   "metadata": {
    "id": "kZWCocxzE-dv"
   },
   "outputs": [
    {
     "name": "stdout",
     "output_type": "stream",
     "text": [
      "[['0.8' '62.4' '55.0' '5.92' '5.88' '3.68']\n",
      " ['0.91' '61.4' '60.0' '6.23' '6.21' '3.82']\n",
      " ['1.28' '61.7' '60.0' '7.05' '6.95' '4.32']\n",
      " ...\n",
      " ['0.31' '61.4' '56.0' '4.38' '4.41' '2.7']\n",
      " ['0.36' '62.0' '59.0' '4.56' '4.51' '2.81']\n",
      " ['0.31' '59.0' '62.0' '4.41' '4.43' '2.61']]\n"
     ]
    }
   ],
   "source": [
    "# ╰( ͡° ͜ʖ ͡° )つ──☆*:・ﾟ\n",
    "numeric_features = [0, 4, 5, 6, 7, 8]\n",
    "categorical_features = [1, 2, 3]\n",
    "print(data[:, numeric_features])"
   ]
  },
  {
   "cell_type": "markdown",
   "metadata": {
    "id": "Fiqc6nBwFVpP"
   },
   "source": [
    "**1. [0,3 баллов]** Решите задачу линейной регрессии для предсказания цены алмаза по его числовым признакам (не забудьте, что линейная модель должна также содержать свободный от признаков член) и протестируйте ваше решение на тестовых данных. Выведите полученные регрессионные коэффициенты для каждого признака. Попробуйте проинтерпретировать полученные коэффициенты: сравните их друг с другом, посмотрите на их знаки и на абсолютную величину и попробуйте на основе этого придать им житейский смысл. Согласуется ли построенная интерпретация модели с вашими представлениями о жизни? \n",
    "\n",
    "*Примечание: обратите внимание, сейчас все данные у вас хранятся в строковом виде. Чтобы работать с ними как с числами, необоходимо явно привести их к типу float. В NumPy для этого есть специальная удобная команда astype.*"
   ]
  },
  {
   "cell_type": "code",
   "execution_count": 333,
   "metadata": {
    "id": "Q-rpxCQLH1VY"
   },
   "outputs": [
    {
     "name": "stdout",
     "output_type": "stream",
     "text": [
      "Регрессионные коэффициенты:\n",
      "carat: 10884.157646844324\n",
      "depth: -211.3323105692066\n",
      "table: -107.24857447966322\n",
      "x: -1358.5810745573467\n",
      "y: 24.758522333999167\n",
      "z: 47.97587653380312 \n",
      "\n",
      "Среднеквадратичная ошибка на тестовых данных:\n",
      "2140976.210198492\n"
     ]
    }
   ],
   "source": [
    "# ╰( ͡° ͜ʖ ͡° )つ──☆*:・ﾟ\n",
    "X1 = np.concatenate((np.ones((X_train.shape[0], 1)), X_train[:, numeric_features].astype('float')), axis=1)\n",
    "a1 = np.dot(np.dot(sla.inv(np.dot(X1.T, X1)), X1.T), y_train.astype('float'))\n",
    "print('Регрессионные коэффициенты:')\n",
    "print('carat:', a1[1][0])\n",
    "print('depth:', a1[2][0])\n",
    "print('table:', a1[3][0])\n",
    "print('x:', a1[4][0])\n",
    "print('y:', a1[5][0])\n",
    "print('z:', a1[6][0], '\\n')\n",
    "\n",
    "print('Среднеквадратичная ошибка на тестовых данных:')\n",
    "print(np.sum(((np.dot(np.concatenate((np.ones((X_test.shape[0], 1)), X_test[:, numeric_features].astype('float')),\n",
    "                                    axis=1), a1) - y_test.astype('float')) ** 2), axis=0)[0] / y_test.shape[0])"
   ]
  },
  {
   "cell_type": "markdown",
   "metadata": {
    "id": "Se87BnStIAOK"
   },
   "source": [
    "Интерпретация модели здесь: ╰( ͡° ͜ʖ ͡° )つ──☆*:・ﾟ Исходя из полученных коэффициентов, мы видим, что больше всего на цену влияет число карат, как и следовало ожидать (но кажется, что коэффициент при нем слишком большой по модулю). Коэффициенты при y и z положительные, это тоже ожидаемо, а вот коэффициент для x отрицательный и относительно y и z довольно большой по модулю, то есть чем больше x, тем меньше цена, что странно. Так же неожиданно, что коэффициенты при depth и table оказались отрицательные."
   ]
  },
  {
   "cell_type": "markdown",
   "metadata": {
    "id": "6uGLZR-0TxaP"
   },
   "source": [
    "Если вы всё сделали правильно, у вас должны были получиться довольно большие по абсолютной величине коэффициенты."
   ]
  },
  {
   "cell_type": "markdown",
   "metadata": {
    "id": "58iMlV0TUHHz"
   },
   "source": [
    "**2. [0,15 баллов]** Попробуйте объяснить, почему ситуация, когда модель имеет большие по модулю коэффиценты, нежелательна?\n",
    "\n",
    "Подсказка: Вы можете попытаться проиллюстрировать свои рассуждения, искусственно описав с помощью исследуемых признаков два алмаза, которые по вашему мнению должны иметь одинаковую цену, и проверить, выдаст ли построенная модель близкие предсказания на этих объектах."
   ]
  },
  {
   "cell_type": "markdown",
   "metadata": {
    "id": "a3oKgoUjWiem"
   },
   "source": [
    "Ваше обоснование здесь: ╰( ͡° ͜ʖ ͡° )つ──☆*:・Если у нас есть большой по модулю коэффициент, возьмем два объекта, различающихся только в соответсвующем признаке и при этом довольно незначительно. Мы получим довольно разные результаты, хотя на таких объектах результаты должны быть близкие.\n",
    "Например, в нашей модели коэффициент при carat большой по модулю. Возьмем два бриллианта, у которых все параметры совпадают, а количество карат отличается на 0,01, это всего лишь 2 миллиграмма, но при этом по нашей модели цена будет отличаться примерно на 109 долларов."
   ]
  },
  {
   "cell_type": "markdown",
   "metadata": {
    "id": "ycsEn6t9nwLB"
   },
   "source": [
    "**3. [0.2 баллов]** Нарисуйте гистограмму, характеризующую распределение объясняемой переменной в обучающей выборке. На такой диаграмме по оси `x` должны быть сгруппированные значения объясняемой переменной, а по оси `y` --- количество объектов выборки с таким значением. Столбцов на вашем графике должно быть не менее 50."
   ]
  },
  {
   "cell_type": "code",
   "execution_count": 345,
   "metadata": {
    "id": "itrJbGIl-I9Q"
   },
   "outputs": [
    {
     "data": {
      "image/png": "[encoded data removed]",
      "text/plain": [
       "<Figure size 864x864 with 1 Axes>"
      ]
     },
     "metadata": {
      "needs_background": "light"
     },
     "output_type": "display_data"
    }
   ],
   "source": [
    "#╰( ͡° ͜ʖ ͡° )つ──☆*:・ﾟ\n",
    "plt.figure(figsize=(12, 12))\n",
    "plt.hist(y_train.astype('float'), bins=50)\n",
    "plt.title('Распределение объясняемой переменной в обучающей выборке')\n",
    "plt.xlabel(\"Ось x\")\n",
    "plt.ylabel(\"Ось y\")\n",
    "plt.show()"
   ]
  },
  {
   "cell_type": "markdown",
   "metadata": {
    "id": "SEvOIN0DQyhZ"
   },
   "source": [
    "В левой части гистограммы располагаются небольшие значения целевой переменной, и объектов с таким значением в выборке довольно много (не забываем, что у нас тут не абстрактная математика в вакууме, мы тут цену алмазов предсказываем!); с увеличением значения таргета (целевой переменной) количество соответствующих объектов в выборке убывает. Сначала число объектов убывает довольно стремительно, но с некоторого момента разница в высоте между соседними столбцами уже почти незаметна. Такое явление называется \"распределение с тяжёлым хвостом\", и оно не очень желательно при построении модели."
   ]
  },
  {
   "cell_type": "markdown",
   "metadata": {
    "id": "PO37Qg7BTyqw"
   },
   "source": [
    "Попробуем избавиться от тяжёлого хвоста. Для этого нужно применить к таргету какую-нибудь медленнорастущую биективную функцию, например логарифм. \n",
    "\n",
    "<!-- Однако вспомним, что мы намеренно отмасштабировали таргет таким образом, чтобы среди его значений был 0, поэтому нужно придумать ещё какое-то преобразование, чтобы все значения целевой переменной попали в область определения логарифма. -->"
   ]
  },
  {
   "cell_type": "markdown",
   "metadata": {
    "id": "nXb63LraZaCL"
   },
   "source": [
    "**4. [0,25 баллов]** Прологарифмируйте целевую переменную и нарисуйте график распределения логарифмированного таргета. Сильно ли он отличается от предыдущего графика? Попробуйте объяснить, почему явление \"распределения с тяжёлым хвостом\" нежелательно при построении модели."
   ]
  },
  {
   "cell_type": "code",
   "execution_count": 346,
   "metadata": {
    "id": "AdgFVEebZwPT"
   },
   "outputs": [
    {
     "data": {
      "image/png": "[encoded data removed]",
      "text/plain": [
       "<Figure size 864x864 with 1 Axes>"
      ]
     },
     "metadata": {
      "needs_background": "light"
     },
     "output_type": "display_data"
    }
   ],
   "source": [
    "# ╰( ͡° ͜ʖ ͡° )つ──☆*:・ﾟ\n",
    "plt.figure(figsize=(12, 12))\n",
    "plt.hist(np.log(y_train.astype('float')), bins=50)\n",
    "plt.title('Распределение логарифма от объясняемой переменной в обучающей выборке')\n",
    "plt.xlabel(\"Ось x\")\n",
    "plt.ylabel(\"Ось y\")\n",
    "plt.show()"
   ]
  },
  {
   "cell_type": "markdown",
   "metadata": {
    "id": "jrlDuorpEiU8"
   },
   "source": [
    "Ваше обоснование здесь: ╰( ͡° ͜ʖ ͡° )つ──☆*:・При распределении с тяжелым хвостом, у нас много объектов с маленьким значением объясняемой переменной, но очень мало с большим, поэтому наша модель будет учиться в основном на маленьких значениях, поэтому она будет плохо предсказывать большие значения."
   ]
  },
  {
   "cell_type": "markdown",
   "metadata": {
    "id": "Ty0T3kk5EiZ-"
   },
   "source": [
    "Снова обучите линейную модель, считая целевой переменной логарифмированный таргет. Помните, что чтобы протестировать полученную линейную модель, важно взять экспоненту от полученных предсказаний."
   ]
  },
  {
   "cell_type": "code",
   "execution_count": 337,
   "metadata": {
    "id": "NbWAprptKEt0"
   },
   "outputs": [
    {
     "name": "stdout",
     "output_type": "stream",
     "text": [
      "Регрессионные коэффициенты:\n",
      "carat: -0.8826263111591781\n",
      "depth: 0.023155237922255427\n",
      "table: -0.01141277732865556\n",
      "x: 1.1910706279648788\n",
      "y: 0.017376163977803172\n",
      "z: 0.050054424394586045 \n",
      "\n",
      "Среднеквадратичная ошибка на тестовых данных:\n",
      "2467648.975736648\n"
     ]
    }
   ],
   "source": [
    "# ╰( ͡° ͜ʖ ͡° )つ──☆*:・ﾟ\n",
    "a2 = np.dot(np.dot(sla.inv(np.dot(X1.T, X1)), X1.T), np.log(y_train.astype('float')))\n",
    "print('Регрессионные коэффициенты:')\n",
    "print('carat:', a2[1][0])\n",
    "print('depth:', a2[2][0])\n",
    "print('table:', a2[3][0])\n",
    "print('x:', a2[4][0])\n",
    "print('y:', a2[5][0])\n",
    "print('z:', a2[6][0], '\\n')\n",
    "\n",
    "print('Среднеквадратичная ошибка на тестовых данных:')\n",
    "print(np.sum(((np.exp(np.dot(np.concatenate((np.ones((X_test.shape[0], 1)),\n",
    "                                             X_test[:, numeric_features].astype('float')), axis=1), a2))\n",
    "               - y_test.astype('float')) ** 2), axis=0)[0] / y_test.shape[0])"
   ]
  },
  {
   "cell_type": "markdown",
   "metadata": {
    "id": "NTSiJAeYE4EM"
   },
   "source": [
    "Удалось ли добиться лучшего качества?"
   ]
  },
  {
   "cell_type": "markdown",
   "metadata": {
    "id": "zugn9a3fE8nb"
   },
   "source": [
    "Ответ: ╰( ͡° ͜ʖ ͡° )つ──☆*:・Нет:("
   ]
  },
  {
   "cell_type": "markdown",
   "metadata": {
    "id": "NHn1U5xJaPVH"
   },
   "source": [
    "### Работаем с категориальными признаками"
   ]
  },
  {
   "cell_type": "markdown",
   "metadata": {
    "id": "_CLrKbkJdK2b"
   },
   "source": [
    "До сих пор мы работали с данными, которые представляются числами. Однако часто в датасетах объекты описываются не только признаками, содержащими числа, но и строковыми признаками, определяющими принадлежность объекта к некоторой категории. Такие признаки называются категориальными. Важно не выкидывать их из модели, потому что часто они содержат довольно полезную информацию об объекте, которую хорошая модель должна обязательно учитывать.\n",
    "\n",
    "В этом разделе мы будем рассматривать только категориальные признаки, временно забыв про числовые.\n",
    "\n",
    "Естесственно, нам нужно придумать, как закодировать категориальные признаки числами. Есть довольно много подходов к такой кодировке, но мы рассмотрим два самых базовых. Первая мысль, которая приходит в голову такая: давайте занумеруем все категории фиксированного признака, и заменим их строковое представление соответствующим численным."
   ]
  },
  {
   "cell_type": "markdown",
   "metadata": {
    "collapsed": true,
    "id": "Zh1vygTdAn7u"
   },
   "source": [
    "**5. [0,3 баллов]** Реализуйте описанную выше процедуру кодирования для всех категориальных признаков в выборке. Вы можете сделать это самостоятельно, а можете разобраться в классе `OrdinalEncoder` библиотеки `sklearn`. Обучите линейную модель на закодированных категориальных признаках и протестируйте. "
   ]
  },
  {
   "cell_type": "code",
   "execution_count": 338,
   "metadata": {
    "id": "FETTkQQGo_-P"
   },
   "outputs": [
    {
     "name": "stdout",
     "output_type": "stream",
     "text": [
      "Регрессионные коэффициенты:\n",
      "cut: 142.2525691770421\n",
      "color: 405.40596569101524\n",
      "clarity: -146.4904241010309 \n",
      "\n",
      "Среднеквадратичная ошибка на тестовых данных:\n",
      "15360322.094986087\n"
     ]
    }
   ],
   "source": [
    "# ╰( ͡° ͜ʖ ͡° )つ──☆*:・ﾟ\n",
    "from sklearn.preprocessing import OrdinalEncoder\n",
    "\n",
    "enc1 = OrdinalEncoder()\n",
    "enc1.fit(X_train[:,categorical_features])\n",
    "\n",
    "X2 = np.concatenate((np.ones((X_train.shape[0], 1)), enc1.transform(X_train[:,categorical_features])), axis=1)\n",
    "a2 = np.dot(np.dot(sla.inv(np.dot(X2.T, X2)), X2.T), y_train.astype('float'))\n",
    "\n",
    "print('Регрессионные коэффициенты:')\n",
    "print('cut:', a2[1][0])\n",
    "print('color:', a2[2][0])\n",
    "print('clarity:', a2[3][0], '\\n')\n",
    "\n",
    "print('Среднеквадратичная ошибка на тестовых данных:')\n",
    "print(np.sum(((np.dot(np.concatenate((np.ones((X_test.shape[0], 1)),\n",
    "                                      enc1.transform(X_test[:,categorical_features])), axis=1), a2)\n",
    "               - y_test.astype('float')) ** 2), axis=0)[0] / y_test.shape[0])\n"
   ]
  },
  {
   "cell_type": "markdown",
   "metadata": {
    "id": "9O9CmAifpAJK"
   },
   "source": [
    "Подумайте, в чём потенциальные проблемы такого кодирования? (Подсказка: пусть изначально мы закодировали категорию A числом 1, а категорию B числом 2, а потом решили сделать наоборот: A <-> 2, B <-> 1. Подумайте, может ли измениться качество модели? А должно ли?)"
   ]
  },
  {
   "cell_type": "markdown",
   "metadata": {
    "id": "ZBkiDk5qqtSk"
   },
   "source": [
    "Ваше обоснование здесь: ╰( ͡° ͜ʖ ͡° )つ──☆*:・ﾟТаким кодированием мы вводим сравнение между категориями, а категории могут быть не сравнимы (например, цвета), но алгоритм будет рассматривать их как порядок. Если мы закодировали категорию A числом 1, а категорию B числом 2, то получается, что B имеет вес в 2 раза больше, чем A, а если сделать наоборот, то A будет иметь вес в 2 раза больше, чем B, и модель изменится, но не должна."
   ]
  },
  {
   "cell_type": "markdown",
   "metadata": {
    "id": "3NY2scS1rAuU"
   },
   "source": [
    "Теперь давайте попробуем исправить недочёты такого способа кодирования категориальных признаков, придумав другой метод. Пусть некоторый признак имеет 4 различные категории: {A, B, C, D}. Заменим этот признак на 4 бинарных признака. Каждый из новых признаков будет являться индикатором одной из этих четырёх категорий: если некоторый объект имел категорию A, то после нашего кодирования значение признака, соответствующего категории А у этого объекта будет равно $1$, а значения оставшихся трёх признаков будут $0$. Небольшая иллюстрация: пусть так выглядела выборка до кодирования\n",
    "\n",
    "| Объект | Признак |\n",
    "| :----------:|:-:|\n",
    "| X | \"B\" |\n",
    "| Y | \"D\" |\n",
    "\n",
    "А так будет выглядеть после кодирования:\n",
    "\n",
    "| Объект | Признак == \"A\" | Признак == \"B\" | Признак == \"C\" | Признак == \"D\" |\n",
    "| :----------:|:-:|:-:|:-:|:-:|\n",
    "| X | 0 | 1 | 0 | 0 |\n",
    "| Y | 0 | 0 | 0 | 1 |\n"
   ]
  },
  {
   "cell_type": "markdown",
   "metadata": {
    "id": "U_VHgVKjtpwr"
   },
   "source": [
    "**6. [0,3 баллов]** Реализуйте описанную выше процедуру кодирования для всех категориальных признаков в выборке. Вы можете сделать это самостоятельно, а можете разобраться в классе `OneHotEncoder` библиотеки `sklearn`. Обучите линейную модель на закодированных категориальных признаках и протестируйте. "
   ]
  },
  {
   "cell_type": "code",
   "execution_count": 339,
   "metadata": {
    "id": "2Rrs69UxtyvR"
   },
   "outputs": [
    {
     "name": "stdout",
     "output_type": "stream",
     "text": [
      "Среднеквадратичная ошибка на тестовых данных:\n",
      "1976964585.8311906\n"
     ]
    }
   ],
   "source": [
    "# ╰( ͡° ͜ʖ ͡° )つ──☆*:・ﾟ\n",
    "from sklearn.preprocessing import OneHotEncoder\n",
    "\n",
    "enc2 = OneHotEncoder()\n",
    "enc2.fit(X_train[:,categorical_features])\n",
    "\n",
    "X3 = np.concatenate((np.ones((X_train.shape[0], 1)), enc2.transform(X_train[:,categorical_features]).toarray()),\n",
    "                    axis=1)\n",
    "a3 = np.dot(np.dot(sla.inv(np.dot(X3.T, X3)), X3.T), y_train.astype('float'))\n",
    "\n",
    "print('Среднеквадратичная ошибка на тестовых данных:')\n",
    "print(np.sum(((np.dot(np.concatenate((np.ones((X_test.shape[0], 1)),\n",
    "                                      enc2.transform(X_test[:,categorical_features]).toarray()), axis=1), a3)\n",
    "               - y_test.astype('float')) ** 2), axis=0)[0] / y_test.shape[0])\n"
   ]
  },
  {
   "cell_type": "markdown",
   "metadata": {
    "id": "rSOmE1iLty7n"
   },
   "source": [
    "Подумайте, в чём потенциальные проблемы такого кодирования? Какие недочёты прошлого метода кодирования исправляет предложенный способ? Какие недочёты есть у этого метода кодирования, которых нет у предыдущего? Который из двух методов выдаёт лучшее качество?"
   ]
  },
  {
   "cell_type": "markdown",
   "metadata": {
    "id": "8grwr0ZBuIgq"
   },
   "source": [
    "Ваше обоснование здесь: ╰( ͡° ͜ʖ ͡° )つ──☆*:・ﾟ Этот метод помогает избежать введения сравнения между категориями, но если категорий очень много, то в этом методе (в отличие от предыдущего) количество столбцов значительно увеличится, соответсвенно время работы алгоритма и потребляемая память тоже. В данном примере первый метод выдал лучшее качество."
   ]
  },
  {
   "cell_type": "markdown",
   "metadata": {
    "id": "IBEMSIfuzoGJ"
   },
   "source": [
    "**7. [0,5 баллов]** Обучите линейную модель на всех данных, выполнив все необходимые преобразования. Постарайтесь добиться меньшей ошибки модели, чем во всех предыдущих заданиях."
   ]
  },
  {
   "cell_type": "code",
   "execution_count": 340,
   "metadata": {
    "id": "HiXPa1UcQYje"
   },
   "outputs": [
    {
     "name": "stdout",
     "output_type": "stream",
     "text": [
      "Среднеквадратичная ошибка на тестовых данных:\n",
      "1631841.1668180462\n"
     ]
    }
   ],
   "source": [
    "# ╰( ͡° ͜ʖ ͡° )つ──☆*:・ﾟ\n",
    "X4 = np.concatenate((np.ones((X_train.shape[0], 1)), enc1.transform(X_train[:,categorical_features]), X_train[:, numeric_features].astype('float')), axis=1)\n",
    "a4 = np.dot(np.dot(sla.inv(np.dot(X4.T, X4)), X4.T), np.log(y_train.astype('float')))\n",
    "\n",
    "print('Среднеквадратичная ошибка на тестовых данных:')\n",
    "print(np.sum(((np.exp( np.dot(np.concatenate((np.ones((X_test.shape[0], 1)), enc1.transform(X_test[:,categorical_features]),\n",
    "                                      X_test[:, numeric_features].astype('float')), axis=1), a4) )\n",
    "               - y_test.astype('float')) ** 2), axis=0)[0] / y_test.shape[0])"
   ]
  },
  {
   "cell_type": "markdown",
   "metadata": {
    "id": "TOt1HIMMg0nu"
   },
   "source": [
    "### Feature engineering"
   ]
  },
  {
   "cell_type": "markdown",
   "metadata": {
    "id": "Ua8Hc_I2NdE8"
   },
   "source": [
    "#### Описание задания.\n",
    "\n",
    "В рамках этого задания вам предстоит улучшить модель и сделать предсказания на выборке из файла`diamonds_test.csv`, ответов к которой мы вам не дадим. Полученные предсказания вам нужно будет сдать в соревнование на сайте [kaggle.com](https://www.kaggle.com/c/hse-lab-linear-regression-21-22/overview). Подробнее о том, как сдавать предсказания, написано в конце раздела. Разумеется, чтобы иметь возможность сдать предсказания, вам нужно быть зарегистрированными на сайте. \n",
    "\n",
    "Оценка за задание рассчитывается исходя из ошибки полученных вами предсказаний и состоит из базовой части и бонусных баллов. Базовая часть оценки определяется следующими пороговыми значениями качества:\n",
    "\n",
    "*   MSE $\\leq 1950000$ ---- 0,25 балла\n",
    "*   MSE $\\leq 1370000$ ---- 0,5 балла\n",
    "*   MSE $\\leq 1280000$ ---- 0,75 балла\n",
    "*   MSE $\\leq 1170000$ ---- 1 балл\n",
    "\n",
    "Если ваша модель выдаёт качество сильно лучше, чем требуется в пороге на 1 балл, то вы можете претендовать на бонусные баллы, приняв участие в полноценном соревновании, смысл которого в том, чтобы получить качество как можно лучше (добиться наименьшей возможной ошибки). \n",
    "\n",
    "Если вы хотите поучаствовать, то просто продолжайте улучшать вашу модель и сдавать предсказания в соревнование. Бонусные баллы будут рассчитываться на основе ошибки полученных вами предсказаний и вашей позиции в лидерборде соревнования. Как именно будет рассчитываться оценка --- мы вам сообщим после завершения соревнования. Точно можем сказать, что наибольшее число баллов за задание получит только один студент --- тот, кто будет находиться на первой позиции в лидерборде на момент дедлайна. Человек на следующем месте уже получит немного меньше, следующий --- ещё меньше, и так далее. Каждый студент, качество предсказаний которого хоть немного лучше нашего порога на 1 балл, обязательно получит бонусные баллы.\n",
    "\n",
    "Чтобы подтвердить своё участие в соревновании, вам нужно будет сдать вашу модель вместе с лабораторной (лучше в отдельном файле, но можно её и прямо здесь написать).\n",
    "\n",
    "**Максимум бонусных баллов за задание: 3**"
   ]
  },
  {
   "cell_type": "markdown",
   "metadata": {
    "id": "esBQkVIY25zH"
   },
   "source": [
    "\n",
    "\n",
    "---\n",
    "\n"
   ]
  },
  {
   "cell_type": "markdown",
   "metadata": {
    "id": "ujFRVw0_focC"
   },
   "source": [
    "В оставшейся части данного раздела приводятся несколько заданий, за выполнение котороых вы не получите баллов. Эти задания даны специально, чтобы вы посмотрели, какие есть идеи для дальнейшего улучшения модели.  Разумеется, мы не требуем от вас, чтобы ваша финальная модель следовала указаниям из этих заданий --- вы можете вообще не выполнять ни одного задания отсюда, оцениваться будут только сданные вами предсказания.\n",
    "\n",
    "\n",
    "\n"
   ]
  },
  {
   "cell_type": "markdown",
   "metadata": {
    "id": "Qa714bBHg8_B"
   },
   "source": [
    "До сих пор мы только исследовали вопрос, как подготовить признаки из датасета, чтобы модель могла на их основе делать какие-то предсказания. При этом до сих пор мы никак не учитывали специфичность задачи: действительно, до этого момента нас интересовало только то, является ли признак числовым или категориальным, мы никак не учитывали физический смысл признаков. Однако часто датасеты предоставляют лишь самую общую информацию об объектах: признаки, которые легко измерить и запомнить. В таком случае при анализе данных нужно выдумывать собственные признаки, которые некоторым образом зависят от уже представленных в датасете признаков и **ни в коем случае не зависят от объясняемой переменной**.\n",
    "\n",
    "В общем случае процесс придумывания новых признаков довольно творческий. Есть, конечно, некоторые более-менее общие подходы, позволяющие улучшить качество модели путём добавления новых признаков, но часто аналитики придумывают признаки, основываясь не только на известных эвристиках, но и на собственном представлении о жизни.\n",
    "\n",
    "Давайте теперь поисследуем наши данные и подумаем, какие признаки можно добавить, чтобы улучшить модель."
   ]
  },
  {
   "cell_type": "markdown",
   "metadata": {
    "id": "bPhiy1IhiLow"
   },
   "source": [
    "**8.** Нарисуйте графики, отображающие зависимость цены алмаза от веса, длины, ширины и глубины (всего должно получиться 4 графика). Проинтерпретируйте наблюдаемую на них зависимость. Согласуется ли она с вашими представлениями о жизни?\n",
    "\n",
    "*Примечание: для изображения зависимости одной величины от другой лучше всего подходит график типа scatter.*"
   ]
  },
  {
   "cell_type": "code",
   "execution_count": null,
   "metadata": {
    "id": "nQzcpqqNkGYq"
   },
   "outputs": [],
   "source": [
    "# ╰( ͡° ͜ʖ ͡° )つ──☆*:・ﾟ"
   ]
  },
  {
   "cell_type": "markdown",
   "metadata": {
    "id": "jd6J9SQlkGwZ"
   },
   "source": [
    "Подумайте, какую функцию можно применить к признакам, чтобы зависимость целевой переменной от них больше напоминала линейную?"
   ]
  },
  {
   "cell_type": "markdown",
   "metadata": {
    "id": "hU63JZex0h_P"
   },
   "source": [
    "Ваше обоснование здесь: ╰( ͡° ͜ʖ ͡° )つ──☆*:・ﾟ"
   ]
  },
  {
   "cell_type": "markdown",
   "metadata": {
    "id": "1L7iSqah0mYd"
   },
   "source": [
    "**9.** На одном рисунке изобразите график зависимости целевой переменной от признака depth и график зависимости целевой переменной от признака table. Чтобы картинка получилась читаемой, сделайте графики полупрозрачными (параметр `alpha`). Что вы можете сказать о получившемся рисунке? Правда ли, что модели будет достаточно оставить только один из этих признаков? Убедитесь в этом, нарисовав аналогичные графики зависимости признаков depth и table от других числовых признаков.\n",
    "\n",
    "*Примечание: почитайте про plt.subplots, чтобы узнать, как красиво рисовать несколько графиков.*"
   ]
  },
  {
   "cell_type": "code",
   "execution_count": null,
   "metadata": {
    "id": "UqTp9xWY28Av"
   },
   "outputs": [],
   "source": [
    "# ╰( ͡° ͜ʖ ͡° )つ──☆*:・ﾟ"
   ]
  },
  {
   "cell_type": "markdown",
   "metadata": {
    "id": "6kZjZ2Ww3YF0"
   },
   "source": [
    "Казалось бы, мы тут пытаемся придумать новые признаки, чтобы улучшить модель, зачем нам выбрасывать уже имеющиеся признаки? Дело в том, что если в выборке есть \"похожие\" в некотором смысле признаки, то модель, обученная на таких данных, может выдавать худший результат, чем если бы похожих признаков в выборке не было. Продемонстрируем это явление на практике."
   ]
  },
  {
   "cell_type": "markdown",
   "metadata": {
    "id": "5x3TzT7V4gDP"
   },
   "source": [
    "**10.** Обучите линейную модель, предсказывающую цену алмазов на признаках x, y, z из наших данных. Замерьте качество полученной линейной модели на тестовой выборке, после чего добавьте признак $\\tau = \\frac{x}{2} + 4y - z + 1$, и снова обучите линейную модель. Которая из моделей добилась лучшего качества?"
   ]
  },
  {
   "cell_type": "code",
   "execution_count": null,
   "metadata": {
    "id": "ktbNFzsz5gt9"
   },
   "outputs": [],
   "source": [
    "# ╰( ͡° ͜ʖ ͡° )つ──☆*:・ﾟ"
   ]
  },
  {
   "cell_type": "markdown",
   "metadata": {
    "id": "RbZ4u40h_MyO"
   },
   "source": [
    "Объясните, почему наличие похожих признаков в выборке заметно ухудшает качество, выдаваемое линейной моделью?"
   ]
  },
  {
   "cell_type": "markdown",
   "metadata": {
    "id": "gEINdpQy_XcA"
   },
   "source": [
    "Ваше обоснование здесь: ╰( ͡° ͜ʖ ͡° )つ──☆*:・ﾟ"
   ]
  },
  {
   "cell_type": "markdown",
   "metadata": {
    "id": "argZX3YMCb6e"
   },
   "source": [
    "Итак, мы обсудили, исходя из каких соображений можно выбирать преобразования над имеющимися признаками и когда для модели может быть полезнее выкинуть некоторый признак из выборки, чем оставить его. Теперь давайте придумаем совсем новый признак. Для этого снова посмотрим на такие характеристики алмазов, как длина, ширина и глубина. Эти характеристики несомненно важны для предсказания цены алмазов, и все построенные нами модели находили какую-то закономерность, но теперь давайте мы попробуем их объединить в новом признаке `объём`. Для начала будем считать, что объём алмаза неплохо приближается объёмом параллелепипеда с такими же измерениями."
   ]
  },
  {
   "cell_type": "markdown",
   "metadata": {
    "id": "DtlMCLwEDhhG"
   },
   "source": [
    "**11.** Обучите линейную модель на 4 признаках: x, y, z, и объём параллелепипеда со сторонами (x, y, z). Сравните качество полученной модели с качеством, выдаваемым моделью, обученной на признаках x, y, z."
   ]
  },
  {
   "cell_type": "code",
   "execution_count": null,
   "metadata": {
    "id": "5fgSn6IZELmT"
   },
   "outputs": [],
   "source": [
    "# ╰( ͡° ͜ʖ ͡° )つ──☆*:・ﾟ"
   ]
  },
  {
   "cell_type": "markdown",
   "metadata": {
    "id": "6XuJr72iGBSy"
   },
   "source": [
    "Понятно, что алмазы редко выглядят как идеальные параллелепипеды (хотя, конечно, многое зависит от огранки), и чаще встречаются алмазы, форма которых скорее напоминает эллипсоид. Снова обучите линейную модель на 4 признаках: x, y, z и объём эллипсоида с осями (x, y, z). Сравните полученную модель с предыдущей. Сильно ли отличается качество у этих моделей? Объясните, почему так получилось?"
   ]
  },
  {
   "cell_type": "code",
   "execution_count": null,
   "metadata": {
    "id": "5ZzmZmNhIKDo"
   },
   "outputs": [],
   "source": [
    "# ╰( ͡° ͜ʖ ͡° )つ──☆*:・ﾟ"
   ]
  },
  {
   "cell_type": "markdown",
   "metadata": {
    "id": "c7r5Je0uI6pj"
   },
   "source": [
    "Если вам стало интересно, можете попробовать обучить модель, аппроксимируя объём алмаза объёмом тетраэдра. Впрочем, если вы ответили на предыдущий вопрос, вы уже наверняка представляете, что получится. В любом случае мы не настаиваем =)\n",
    "\n",
    "Следующий трюк, который мы обсудим, --- это бинаризация признаков. Суть заключается в том, что мы берём некоторый признак из выборки и делаем из него несколько бинарных признаков (т.е. таких признаков, значения которых могут быть либо $0$, либо $1$). Частный случай бинаризации признаков мы уже разбирали, когда занимались кодированием категориальных признаков: тогда мы брали признак $P$, описывающий принадлежность объекта к одной из $N$ категорий ${A_1, \\ldots, A_N}$, и делали из него $N$ признаков вида $[P = A_1], [P = A_2], \\ldots [P = A_N]$.\n",
    "\n",
    "Однако это не единственный способ бинаризовать признаки. Допустим $P$ --- числовой признак, тогда мы, например, можем выбрать $k$ порогов ${t_1, \\ldots, t_k}$ и превратить признак $P$ в $k$ бинарных признаков $[P \\leq t_1], [t_1 < P \\leq t_2], \\ldots, [t_{k-1} < P \\leq t_k]$.\n",
    "\n",
    "Если же у нас есть два признака $P$ и $F$, мы можем применять булевы операции к их бинаризациям, например $[P < t_1 \\vee F > h_1], [t_2 < P \\leq t_3 \\wedge h_2 \\leq F \\leq h_3], [(P = t_4 \\vee F = h_4) \\wedge P \\leq t_5]$, и т.д.\n",
    "\n",
    "Давайте с помощью бинаризации выделим объекты, цена которых скорее всего будет высокой, и объекты, цена которых скорее всего будет низкой. Делать мы это будем на основе категориальных признаков (закодированных любым способом, однако если вы предпочитаете кодирование бинаризацией, т.е. второй способ, то при выполнении задания не забывайте, что признаки должны быть линейно независимы). Чтобы вы понимали, как именно категориальные признаки характеризуют алмазы, мы приложили вам картинку `categorical_descriptions`.\n",
    "\n",
    "![](https://lh3.google.com/u/0/d/1xzqbnwyOazKNiiJxNo_AUh7iUsTONC-0=w1920-h1090-iv1)"
   ]
  },
  {
   "cell_type": "markdown",
   "metadata": {
    "id": "ADOr1ZH6Y1OQ"
   },
   "source": [
    "**12.** Обучите линейную модель, предсказывающую цену алмазов на категориальных признаках из наших данных. Замерьте качество полученной линейной модели на тестовой выборке, после чего добавьте признаки, которые явно выделят алмазы, цена на которые скорее всего будет высокой, и алмазы, цена которых скорее всего будет низкой, и снова обучите линейную модель. Вы можете также добавить и свои признаки и использовать не только категориальные признаки (например, если вам захочется добавить признак \"у алмаза лучшая чистота И алмаз совершенно бесцветный И объём алмаза не меньше $t$\"). Удалось ли добиться прироста в качестве?"
   ]
  },
  {
   "cell_type": "code",
   "execution_count": null,
   "metadata": {
    "id": "7sxhbqDPZyfH"
   },
   "outputs": [],
   "source": [
    "# ╰( ͡° ͜ʖ ͡° )つ──☆*:・ﾟ"
   ]
  },
  {
   "cell_type": "markdown",
   "metadata": {
    "id": "AbIbDwNci6Mf"
   },
   "source": [
    "#### Как сдавать предсказания?\n",
    "\n",
    "Передайте в написанную нами функцию `make_submission` ваши предсказания. Когда функция отработает, у вас в рабочей директории появится файл `submission.csv`, который вам и нужно сдать в соревнование."
   ]
  },
  {
   "cell_type": "code",
   "execution_count": 390,
   "metadata": {
    "id": "m4gv1RKjjtxA"
   },
   "outputs": [],
   "source": [
    "def make_submission(y_pred):\n",
    "  file = np.arange(1, len(y_pred) + 1)\n",
    "  file = file.reshape(-1, 1)\n",
    "  file = np.concatenate([file, y_pred.reshape(-1, 1).astype(float)], axis=1)\n",
    "  with open(\"submission8.csv\", \"w\") as f:\n",
    "    f.write(\"id,price\\n\")\n",
    "    np.savetxt(f, file, delimiter=\",\", fmt=\"%d,%10.5f\")\n",
    "    \n",
    "data1 = np.loadtxt(\"diamonds_test.csv\", delimiter=\",\", dtype=\"str\")[1:, :]\n",
    "X7 = np.concatenate((np.ones((X_train.shape[0], 1)), enc1.transform(X_train[:,categorical_features]),\n",
    "                     X_train[:, numeric_features].astype('float'),\n",
    "                     add_polynomial_features(X_train[:, [0, 5]].astype('float').T, 2).T,\n",
    "                     add_polynomial_features(X_train[:, [4, 6]].astype('float').T, 2).T), axis=1)\n",
    "\n",
    "a7 = np.dot(np.dot(sla.inv(np.dot(X7.T, X7)), X7.T), np.log(y_train.astype('float')))\n",
    "    \n",
    "make_submission(np.exp(np.dot(np.concatenate((np.ones((data1.shape[0], 1)),\n",
    "                                              enc1.transform(data1[:,categorical_features]), \n",
    "                                              data1[:, numeric_features].astype('float'),\n",
    "                                              add_polynomial_features(data1[:, [0, 5]].astype('float').T, 2).T,\n",
    "                                              add_polynomial_features(data1[:, [4, 6]].astype('float').T, 2).T),\n",
    "                                             axis=1), a7)))"
   ]
  },
  {
   "cell_type": "markdown",
   "metadata": {},
   "source": [
    "Ник на kaggle: Alina Mekhtieva"
   ]
  },
  {
   "cell_type": "markdown",
   "metadata": {
    "id": "4aHgP-6qfl0D"
   },
   "source": [
    "### Задание 3. Регуляризация (3.9 баллов)\n",
    "\n"
   ]
  },
  {
   "cell_type": "markdown",
   "metadata": {
    "id": "6RcCzJLjm8a6"
   },
   "source": [
    "Конечно, никто не гарантирует, что объясняемая переменная зависит от остальных характеристик именно линейно, поэтому мы можем неслабо улучшить модель, добавляя в неё нелинейные признаки на основе уже имеющихся. Один из наиболее распространённых подходов заключается в добавлении в выборку полиномиальных признаков некоторой фиксированной степени на основе уже имеющихся. Т.е., скажем, у нас есть признаки {P, F, G} и наша задача состоит в том, чтобы добавить в выборку полиномиальные признаки степени $2$ на основе имеющихся. Тогда мы добавим в выборку признаки\n",
    "\n",
    "$$\n",
    "P^2, F^2, G^2, PF, PG, FG.\n",
    "$$\n",
    "\n",
    "Аналогично для большего числа признаков и больших степеней.\n",
    "\n",
    "**1. [0,4 баллов]** Реализуйте функцию `add_polynomial_features`, принимающую массив признаков, и степень, и возвращающую полиномиальные признаки заданной степени."
   ]
  },
  {
   "cell_type": "code",
   "execution_count": 198,
   "metadata": {
    "id": "_lnytPeGnEFP"
   },
   "outputs": [],
   "source": [
    "from itertools import combinations_with_replacement\n",
    "from functools import reduce\n",
    "\n",
    "def add_polynomial_features(features, degree):\n",
    "    ans = []\n",
    "    for combination in combinations_with_replacement(features, degree):\n",
    "        ans.append(list(reduce(lambda x, y: [x[i] * y[i] for i in range(len(x))], combination)))\n",
    "    return np.array(ans)\n",
    "\n",
    "# Пример: получаем полиномиальные признаки степени 2 на основе признаков x, y, z:\n",
    "#poly_features = add_polynomial_features(data[:, [6, 7, 8]].astype(np.float64).T, 2)\n",
    "assert poly_features.shape[0] == 6"
   ]
  },
  {
   "cell_type": "markdown",
   "metadata": {
    "id": "TqwGy6HEnX6W"
   },
   "source": [
    "Обучите линейную модель, добавив в выборку полиномиальные признаки степени $2$ от признаков carat и table. Сравните качество полученной модели с качеством модели из пункта 7 предыдущего задания."
   ]
  },
  {
   "cell_type": "code",
   "execution_count": 341,
   "metadata": {
    "id": "MPI707WOn1op"
   },
   "outputs": [
    {
     "name": "stdout",
     "output_type": "stream",
     "text": [
      "Среднеквадратичная ошибка на тестовых данных:\n",
      "1307408.3455221518\n"
     ]
    }
   ],
   "source": [
    "# ╰( ͡° ͜ʖ ͡° )つ──☆*:・ﾟ\n",
    "X5 = np.concatenate((np.ones((X_train.shape[0], 1)), enc1.transform(X_train[:,categorical_features]),\n",
    "                     X_train[:, numeric_features].astype('float'),\n",
    "                     add_polynomial_features(X_train[:, [0, 5]].astype('float').T, 2).T), axis=1)\n",
    "a5 = np.dot(np.dot(sla.inv(np.dot(X5.T, X5)), X5.T), np.log(y_train.astype('float')))\n",
    "\n",
    "print('Среднеквадратичная ошибка на тестовых данных:')\n",
    "print(np.sum(((np.exp( np.dot(np.concatenate((np.ones((X_test.shape[0], 1)),\n",
    "                                              enc1.transform(X_test[:,categorical_features]),\n",
    "                                      X_test[:, numeric_features].astype('float'),\n",
    "                                              add_polynomial_features(X_test[:, [0, 5]].astype('float').T, 2).T),\n",
    "                                             axis=1), a5) )\n",
    "               - y_test.astype('float')) ** 2), axis=0)[0] / y_test.shape[0])"
   ]
  },
  {
   "cell_type": "markdown",
   "metadata": {},
   "source": [
    "Качество модели улучшилось по сравнению с качеством модели из пункта 7 предыдущего задания."
   ]
  },
  {
   "cell_type": "markdown",
   "metadata": {
    "id": "Ug11Yg52v5WU"
   },
   "source": [
    "**2. [0,3 баллов]** В этом задании вам нужно обучить 6 линейных моделей на полиномиальных признаках степеней от 1 до 6 от уже имеющихся признаков (carat, x, y, z). Нарисуйте график зависимости качества модели на обучающей и тестовой выборке от степени полиномиальных признаков в логарифмической шкале. Прокомментируйте полученный график: ожидали ли вы такого эффекта? "
   ]
  },
  {
   "cell_type": "code",
   "execution_count": 349,
   "metadata": {
    "id": "JGvdh2Wmwwh_"
   },
   "outputs": [
    {
     "data": {
      "image/png": "[encoded data removed]",
      "text/plain": [
       "<Figure size 432x288 with 1 Axes>"
      ]
     },
     "metadata": {
      "needs_background": "light"
     },
     "output_type": "display_data"
    }
   ],
   "source": [
    "# ╰( ͡° ͜ʖ ͡° )つ──☆*:・ﾟ\n",
    "mean_square_errors_train = []\n",
    "mean_square_errors_test = []\n",
    "for degree in range(1, 7):\n",
    "    X = np.concatenate((np.ones((X_train.shape[0], 1)),\n",
    "                        add_polynomial_features(X_train[:, [0, 6, 7, 8]].astype('float').T, degree).T), axis=1)\n",
    "    a = np.dot(np.dot(sla.inv(np.dot(X.T, X)), X.T), y_train.astype('float'))\n",
    "    \n",
    "    mean_square_errors_train.append(np.sum((( np.dot(X, a) - y_train.astype('float')) ** 2), axis=0)[0] / y_train.shape[0])\n",
    "    \n",
    "    mean_square_errors_test.append(np.sum((( np.dot(np.concatenate((np.ones((X_test.shape[0], 1)),\n",
    "                                     add_polynomial_features(X_test[:, [0, 6, 7, 8]].astype('float').T, degree).T),\n",
    "                                    axis=1), a) - y_test.astype('float')) ** 2), axis=0)[0] / y_test.shape[0])\n",
    "    \n",
    "plt.title('Зависимости среднеквадратичной ошибки на обучающей и тестовой выборке от степени полиномиальных признаков')\n",
    "plt.xlabel(\"Степень полиномиальных признаков\")\n",
    "plt.ylabel(\"Среднеквадратичная ошибка\")\n",
    "plt.yscale('log')\n",
    "x = [1, 2, 3, 4, 5, 6]\n",
    "plt.plot(x, mean_square_errors_train, color='m')\n",
    "plt.plot(x, mean_square_errors_test, color='r')\n",
    "plt.legend(('train', 'test'))\n",
    "plt.show()"
   ]
  },
  {
   "cell_type": "markdown",
   "metadata": {},
   "source": [
    "Неожиданно, что при увелечении степени полиномиальных признаков резко возрастает ошибка на тестовой выборке."
   ]
  },
  {
   "cell_type": "markdown",
   "metadata": {
    "id": "PKtmVN-Dww4h"
   },
   "source": [
    "Наблюдаемый вами эффект называется переобучением: ситуация, когда модель становится слишком зависимой от обучающей выборки. Действительно, в процессе обучения модели мы стараемся минимизировать ошибку именно на обучающей выборке, и совершенно неочевидно, почему обученная модель будет обобщаться на объекты, которых она раньше не видела.\n",
    "\n",
    "Когда мы начали добавлять в выборку полиномиальные признаки большой степени, модель стала настолько сложной, что обрела способность запомнить обучающую выборку вместо того, чтобы извлекать из неё какие-то закономерности. Как следствие, когда мы подали модели на вход выборку, отличную от обучающей, мы получили колоссальную ошибку.\n",
    "\n",
    "Ситуация, когда качество модели на обучающей выборке гораздо ниже качества на тестовой выборке, является самым явным симптомом переобучения, но не единственным. Часто в ситуации переобучения можно наблюдать необычайно большие по модулю коэффициенты модели.\n",
    "\n",
    "Есть много способов борьбы с этим злом. Один из них --- регуляризация. Сейчас мы рассмотрим одну из её разновидностей --- **L2-регуляризацию**. Идея в том, чтобы подправить матрицу $X^TX$, сделав её \"получше\". Например, это можно сделать, заменив её на $(X^TX + \\lambda E)$, где $\\lambda > 0$ --- некоторый скаляр. Пожертвовав точностью на обучающей выборке, мы тем не менее получаем численно более стабильное псевдорешение $a = (X^TX + \\lambda E)^{-1}X^Ty$ и снижаем эффект переобучения. *Гиперпараметр* $\\lambda$ нужно подбирать, и каких-то универсальных способов это делать нет, но зачастую можно его подобрать таким, чтобы ошибка на тестовой выборке падала.\n",
    "\n",
    "Однако есть некоторые правила, которых стоит придерживаться при подборе коэффициента регуляризации. Обычно в такой ситуации всю выборку делят на три части: обучающую, *валидационную* и тестовую. Сначала по валидационной подбирают значение гиперпараметра, потом по обучающей строят модель, а по тестовой оценивают её итоговое качество. Кроме того, подбирать $\\lambda$ нужно по логарифметической сетке, чтобы узнать оптимальный порядок величины."
   ]
  },
  {
   "cell_type": "markdown",
   "metadata": {
    "id": "KRr312xvz-Cx"
   },
   "source": [
    "**3. [0,1 балла]** Подумайте, почему не стоит подбирать коэффициент регуляризации по обучающей выборке? По тестовой выборке?"
   ]
  },
  {
   "cell_type": "markdown",
   "metadata": {
    "id": "PjYAT3i-0GGX"
   },
   "source": [
    "Ваше обоснование здесь: ╰( ͡° ͜ʖ ͡° )つ──☆*:・ﾟПотому что если подбирать по обучающей выборке, коэффициент регуляризации всегда выгоднее будет взять нулем, а если мы будем подбирать по тестовой, то получится, что мы будем минимизировать ошибку на тестовых данных и наша модель начнет зависеть от тестовой выборки, чего мы не хотим."
   ]
  },
  {
   "cell_type": "markdown",
   "metadata": {
    "id": "nQlJbhvH0SBD"
   },
   "source": [
    "**4. [0,3 балла]** Рассмотрим линейную можель с полиномиальными признаками степени $4$ от признаков (carat, x, y, z). Качество такой модели на обучающей выборке уже заметно лучше, чем качество на тестовой. Попробуем исправить эту ситуацию, применив $L2$-регуляризацию. Поделите вашу обучающую выборку на две части в соотношении $8:2$. Большую часть вы вновь объявите обучающей выборкой, а меньшую --- валидационной. Подберите гиперпараметр $\\lambda$ по логарифмической сетке таким образом, чтобы линейная модель с \"подправленной\" матрицей Грама $X^TX$ выдавала лучшее качество на валидационной выборке. Обучите линейную модель с подобранным параметром $\\lambda$ на обучающей выборке и протестируйте её на тестовых данных. Сделайте вывод: помогла ли нам регуляризация?\n",
    "\n",
    "*Примечание: np.logspace вам в помощь.*"
   ]
  },
  {
   "cell_type": "code",
   "execution_count": 255,
   "metadata": {
    "id": "g5rBhgI93MXd"
   },
   "outputs": [
    {
     "name": "stdout",
     "output_type": "stream",
     "text": [
      "Лямбда: 16.768329368110084\n",
      "Среднеквадратичная ошибка на тестовых данных до регуляризации:\n",
      "2290964.4578482904\n",
      "Среднеквадратичная ошибка на тестовых данных после регуляризации:\n",
      "1990510.4061022964\n"
     ]
    }
   ],
   "source": [
    "# ╰( ͡° ͜ʖ ͡° )つ──☆*:・ﾟ\n",
    "X_train1, X_val, y_train1, y_val = train_test_split(X_train, y_train, test_size=0.2, random_state=40)\n",
    "\n",
    "X6 = np.concatenate((np.ones((X_train1.shape[0], 1)),\n",
    "                        add_polynomial_features(X_train1[:, [0, 6, 7, 8]].astype('float').T, 4).T), axis=1)\n",
    "min_error = 1000000000000\n",
    "l_for_min = 0\n",
    "for l in np.logspace(0, 10):\n",
    "    a = np.dot(np.dot(sla.inv(np.dot(X6.T, X6) + l * np.eye(36)), X6.T), y_train1.astype('float'))\n",
    "    error = np.sum((( np.dot(np.concatenate((np.ones((X_val.shape[0], 1)),\n",
    "                                     add_polynomial_features(X_val[:, [0, 6, 7, 8]].astype('float').T, 4).T),\n",
    "                                    axis=1), a) - y_val.astype('float')) ** 2), axis=0)[0] / y_val.shape[0]\n",
    "    if min_error > error:\n",
    "        min_error = error\n",
    "        l_for_min = l\n",
    "print(\"Лямбда:\", l_for_min)\n",
    "a6 = np.dot(np.dot(sla.inv(np.dot(X6.T, X6) + l_for_min * np.eye(36)), X6.T), y_train1.astype('float'))\n",
    "print('Среднеквадратичная ошибка на тестовых данных до регуляризации:')\n",
    "print(mean_square_errors_test[3])\n",
    "print('Среднеквадратичная ошибка на тестовых данных после регуляризации:')\n",
    "print(np.sum((( np.dot(np.concatenate((np.ones((X_test.shape[0], 1)),\n",
    "                                     add_polynomial_features(X_test[:, [0, 6, 7, 8]].astype('float').T, 4).T),\n",
    "                                    axis=1), a6) - y_test.astype('float')) ** 2), axis=0)[0] / y_test.shape[0])"
   ]
  },
  {
   "cell_type": "markdown",
   "metadata": {},
   "source": [
    "Ура, регуляризация нам помогла!"
   ]
  },
  {
   "cell_type": "markdown",
   "metadata": {
    "id": "wFeo516Z4ckd"
   },
   "source": [
    "**5. [0,5 балла]** Повторите первое задание, но вместо 6 обычных линейных моделей обучите 6 регуляризованных линейных моделей. Для каждой модели вам нужно будет подобрать свой гиперпараметр $\\lambda$. Сравните полученный график с графиком из первого задания: для всякой ли степени мы смогли улучшить ситуацию? Как выдумаете, почему?"
   ]
  },
  {
   "cell_type": "code",
   "execution_count": 256,
   "metadata": {
    "id": "fKPFiHrN4-xO"
   },
   "outputs": [],
   "source": [
    "# ╰( ͡° ͜ʖ ͡° )つ──☆*:・ﾟ\n",
    "mean_square_errors_train1 = []\n",
    "mean_square_errors_test1 = []\n",
    "for degree in range(1, 7):\n",
    "    X = np.concatenate((np.ones((X_train1.shape[0], 1)),\n",
    "                        add_polynomial_features(X_train1[:, [0, 6, 7, 8]].astype('float').T, degree).T), axis=1)\n",
    "    min_error = 1000000000000\n",
    "    l_for_min = 0\n",
    "    for l in np.logspace(0, 10):\n",
    "        a = np.dot(np.dot(sla.inv(np.dot(X.T, X) + l * np.eye(X.shape[1])), X.T), y_train1.astype('float'))\n",
    "        error = np.sum((( np.dot(np.concatenate((np.ones((X_val.shape[0], 1)),\n",
    "                                     add_polynomial_features(X_val[:, [0, 6, 7, 8]].astype('float').T, degree).T),\n",
    "                                    axis=1), a) - y_val.astype('float')) ** 2), axis=0)[0] / y_val.shape[0]\n",
    "        if min_error > error:\n",
    "            min_error = error\n",
    "            l_for_min = l\n",
    "    a_for_min = np.dot(np.dot(sla.inv(np.dot(X.T, X) + l_for_min * np.eye(X.shape[1])), X.T), y_train1.astype('float'))\n",
    "    mean_square_errors_train1.append(np.sum((( np.dot(X, a_for_min) - y_train1.astype('float')) ** 2), axis=0)[0]\n",
    "                                     / y_train1.shape[0])\n",
    "    \n",
    "    mean_square_errors_test1.append(np.sum((( np.dot(np.concatenate((np.ones((X_test.shape[0], 1)),\n",
    "                                     add_polynomial_features(X_test[:, [0, 6, 7, 8]].astype('float').T, degree).T),\n",
    "                                    axis=1), a_for_min) - y_test.astype('float')) ** 2), axis=0)[0] / y_test.shape[0])"
   ]
  },
  {
   "cell_type": "code",
   "execution_count": 348,
   "metadata": {},
   "outputs": [
    {
     "data": {
      "image/png": "[encoded data removed]",
      "text/plain": [
       "<Figure size 432x288 with 1 Axes>"
      ]
     },
     "metadata": {
      "needs_background": "light"
     },
     "output_type": "display_data"
    }
   ],
   "source": [
    "plt.title('Зависимости среднеквадратичной ошибки после регуляризации на обучающей и тестовой выборке от степени полиномиальных признаков\\n')\n",
    "plt.xlabel(\"Степень полиномиальных признаков\")\n",
    "plt.ylabel(\"Среднеквадратичная ошибка\")\n",
    "#plt.yscale('log')\n",
    "x = [1, 2, 3, 4, 5, 6]\n",
    "plt.plot(x, mean_square_errors_train1, color='m')\n",
    "plt.plot(x, mean_square_errors_test1, color='r')\n",
    "plt.legend(('train', 'test'))\n",
    "plt.show()"
   ]
  },
  {
   "cell_type": "markdown",
   "metadata": {},
   "source": [
    "График нарисован не в логарифмической шкале."
   ]
  },
  {
   "cell_type": "code",
   "execution_count": 258,
   "metadata": {},
   "outputs": [
    {
     "name": "stdout",
     "output_type": "stream",
     "text": [
      "В левом столбце среднеквадратичная ошибка на обучающей выборке, в правом - на тестовой\n",
      "Для 1 степени:\n",
      "до регуляризации: 2360731.9484877614 2213529.805251787\n",
      "после регуляризации: 2391408.1397154243 2218434.87703332\n",
      "Для 2 степени:\n",
      "до регуляризации: 2134277.2937353617 2154856.329089658\n",
      "после регуляризации: 2146124.382809683 2137442.345615581\n",
      "Для 3 степени:\n",
      "до регуляризации: 2029438.2119572554 1949380.211445994\n",
      "после регуляризации: 2045377.0445720288 1955887.0242450582\n",
      "Для 4 степени:\n",
      "до регуляризации: 1972139.8978284453 2290964.4578482904\n",
      "после регуляризации: 1989384.1320696631 1990510.4061022964\n",
      "Для 5 степени:\n",
      "до регуляризации: 2058745.2037841035 71314182.57220182\n",
      "после регуляризации: 1978385.9932299375 1942452.050766369\n",
      "Для 6 степени:\n",
      "до регуляризации: 4852553.741384019 24549332165.39355\n",
      "после регуляризации: 1959968.1068655187 2013591.6575631788\n"
     ]
    }
   ],
   "source": [
    "print('В левом столбце среднеквадратичная ошибка на обучающей выборке, в правом - на тестовой')\n",
    "for degree in range (1, 7):\n",
    "    print('Для', degree, 'степени:')\n",
    "    print('до регуляризации:', mean_square_errors_train[degree - 1], mean_square_errors_test[degree - 1])\n",
    "    print('после регуляризации:', mean_square_errors_train1[degree - 1], mean_square_errors_test1[degree - 1])"
   ]
  },
  {
   "cell_type": "markdown",
   "metadata": {},
   "source": [
    "Для 4, 5 и 6 степеней ситуация улучшилась. Для 1, 2 и 3 нет, потому что при этих степенях переобучения особо не происходило, поэтому регуляризация ситуацию не изменила."
   ]
  },
  {
   "cell_type": "markdown",
   "metadata": {
    "id": "IwzU99F75DPx"
   },
   "source": [
    "**6. [1,15 балла]** Пусть заданы $X\\in \\text{Mat}_{n \\times k}(\\mathbb{R})$, $\\lambda \\geqslant 0$, а также известно, что $\\text{rk}~X = k \\leqslant n$. Решите следующую задачу оптимизации:\n",
    "$$|Xa - y|^2 + \\lambda|a|^2\\rightarrow\\min\\limits_{a \\in \\mathbb{R}^k}.$$\n",
    "\n",
    "Заметим, что первое слагаемое --- это значение mean-square error (с точностью до домножения на некоторую константу) модели с коэффициентами $a = (a_1, \\ldots, a_k)$. Типичной задачей линейной регрессии является минимизация первого слагаемого по всем векторам $a$. Однако в данном случае кроме минимизации среднеквадратичной ошибки мы также добавляем условие, что при этом и веса модели должны быть как можно меньше. Действительно, мы уже убедились, что чем сложнее модель, тем меньше будет ошибка на обучающей выборке (а именно это ошибку мы и минимизируем в процессе обучения) и тем вероятнее модель будет иметь большие по модулю коэффициенты, а значит, и большое значение $|a|$. Добавляя второе слагаемое в рассматриваемый выше функционал, мы как бы задаём ограничение на абсолютную величину коэффициентов модели. При этом параметр $\\lambda$ явно будет указывать, насколько сильно мы будем штрафовать модель за большие коэффициенты. Заметим, что если $\\lambda = 0$, то мы получаем классическую задачу линейной регресии без регуляризации."
   ]
  },
  {
   "cell_type": "markdown",
   "metadata": {
    "id": "m0l8CtbO7uxo"
   },
   "source": [
    "Ваше решение здесь: ╰( ͡° ͜ʖ ͡° )つ──☆*:・ﾟ $|Xa - y|^2 + \\lambda|a|^2 = \\sum\\limits_{i=1}^n(a_1 x_{i1}+ \\ldots +a_n x_{in} - y_i)^2 + \\lambda \\sum\\limits_{i=1}^n a_i^2$. Зафиксируем $a_2, a_3, \\ldots a_n$, тогда выражение будет зависить только от $a_1$, чтобы его минимизировать возьмем производную (по $a_1$) и приравняем к 0:\n",
    "$$\\sum\\limits_{i=1}^n(2 x_{i1}^2 a_1 + 2 a_2 x_{i1} x_{i2} + \\ldots + 2 a_n x_{i1} x_{in} - 2 y_i x_{i1}) + 2\\lambda a_1 = 0$$\n",
    "Пусть $x_i$ - $i$-й столбец матрицы X:\n",
    "$$a_1 x_1^T x_1 + \\sum\\limits_{i=1}^n a_i x_1^T x_i - x_1^T y + \\lambda a_1 = 0$$\n",
    "$$(x_1^T x_1 + \\lambda)a_1 = x_1^T y - \\sum\\limits_{i=1}^n a_i x_1^T x_i$$\n",
    "Аналогично можно сделать для всех $a_i$.\n",
    "Теперь пусть мы нашли a, для которого выражение минимально, тогда оно должно удовлетворять равенству выше, иначе можно зафиксировать $a_2, a_3, \\ldots a_n$ и сделать, как указано выше, найти новое $a_1$, для которого значение выражения будет меньше (аналогично для всех $a_i$). Тогда\n",
    "\n",
    "$$\\begin{pmatrix}\n",
    "(x_1^T x_1 + \\lambda)a_1 \\\\ \\vdots \\\\ (x_n^T x_n + \\lambda)a_n\n",
    "\\end{pmatrix} =\n",
    "\\begin{pmatrix}\n",
    "x_1^T y \\\\ \\vdots \\\\ x_n^T y\n",
    "\\end{pmatrix} - \n",
    "\\begin{pmatrix}\n",
    "b_1 a \\\\ \\vdots \\\\ b_n a\n",
    "\\end{pmatrix}$$\n",
    "\n",
    "где $b_i = (x_i^T x_1 | \\ldots | x_i^T x_{i - 1} | 0 | x_i^T x_{i + 1} |  \\ldots | x_i^T x_n)$\n",
    "\n",
    "$$\\begin{pmatrix}\n",
    "x_1^T x_1 & 0 & \\ldots & 0 \\\\\n",
    "0 & x_2^T x_2 & \\ldots & 0 \\\\\n",
    "\\vdots & \\vdots & \\ldots & \\vdots \\\\ \n",
    "0 & 0 & \\ldots & x_n^T x_n\n",
    "\\end{pmatrix} a + \\lambda a +\n",
    "\\begin{pmatrix}\n",
    "b_1 \\\\ b_2 \\\\ \\vdots \\\\ b_n\n",
    "\\end{pmatrix} a =\n",
    "\\begin{pmatrix}\n",
    "x_1^T \\\\ x_2^T \\\\ \\vdots \\\\ x_n^T\n",
    "\\end{pmatrix} y$$\n",
    "\n",
    "$$\\begin{pmatrix}\n",
    "x_1^T x_1 & x_1^T x_2 & \\ldots & x_1^T x_n \\\\ \n",
    "x_2^T x_1 & x_2^T x_2 & \\ldots & x_2^T x_n \\\\ \n",
    "\\vdots & \\vdots & \\ldots & \\vdots \\\\ \n",
    "x_n^T x_1 & x_n^T x_2 & \\ldots & x_n^T x_n\n",
    "\\end{pmatrix} a + \\lambda a =\n",
    "\\begin{pmatrix}\n",
    "x_1^T \\\\ x_2^T \\\\ \\vdots \\\\ x_n^T\n",
    "\\end{pmatrix} y$$\n",
    "\n",
    "$$(X^T X + \\lambda E) a = X^T y$$\n",
    "$$a = (X^T X + \\lambda E)^{-1} X^T y$$"
   ]
  },
  {
   "cell_type": "markdown",
   "metadata": {
    "id": "GVmoHb9PAn75"
   },
   "source": [
    "**7. [0,25 балла]** При построении линейной модели у вас, как правило, есть также и свободный член, не зависящий от признаков из выборки. Подумайте, почему регуляризовать свободный член — плохая идея?"
   ]
  },
  {
   "cell_type": "markdown",
   "metadata": {
    "id": "Pz7uZUdjAn76"
   },
   "source": [
    "Ваше обоснование здесь: ╰( ͡° ͜ʖ ͡° )つ──☆*:・ﾟРегуляризация помогает избавиться от больших по модулю коэффициентов. Большие по модулю коэффициенты вызывают проблемы, потому что незначительное изменение параметра при большом коэффициенте влечет сильное измемнение значения объясняемой переменной, но параметр при свободном члене для всех объектов одинаковый (равен 1), соответсвенно в случае большого по модулю свободного члена таких проблем не возникает, поэтому нет смысла его регуляризовать. Свободный член поднимает (или опускает) все значения объясняемой переменной на константу, поэтому запретив ему быть большим по модулю, мы занизим модуль объясняемой переменной."
   ]
  },
  {
   "cell_type": "markdown",
   "metadata": {
    "id": "Gdffe8TCAn76"
   },
   "source": [
    "**8. [0,5 балла]** Пусть теперь $\\text{rk}~X < k$. Всегда ли в этом случае существует решение? Если существует, то является ли оно единственным? Ответ обоснуйте."
   ]
  },
  {
   "cell_type": "markdown",
   "metadata": {
    "id": "P1h46LL8An76"
   },
   "source": [
    "Ваше обоснование здесь: ╰( ͡° ͜ʖ ͡° )つ──☆*:・ﾟ Если $det(X^T X + \\lambda E) \\neq 0$, то решение существует и единствено. Если $det(X^T X + \\lambda E) = 0$, то в УСВ для матрицы $(X^T X + \\lambda E)$ есть нулевые строки, значит либо решений нет, либо их бесконечно много."
   ]
  },
  {
   "cell_type": "markdown",
   "metadata": {
    "id": "m7gvthEgAn77"
   },
   "source": [
    "**9. [0,4 балла]** Покажите, что если решений бесконечно много, то среди них обязательно найдутся решения со сколь угодно большими по модулю компонентами вектора $a$."
   ]
  },
  {
   "cell_type": "markdown",
   "metadata": {
    "id": "gVPOHJuZAn77"
   },
   "source": [
    "Ваше обоснование здесь: ╰( ͡° ͜ʖ ͡° )つ──☆*:・ﾟЕсли решений бесконечно много, то в УСВ для матрицы $(X^T X + \\lambda E)$ есть нулевые строки, тогда есть свободные переменные (т.к. это квадратная матрица), значения которых мы можем выбрать сколь угодно большими по модулю."
   ]
  },
  {
   "cell_type": "markdown",
   "metadata": {
    "id": "l6hnfV4vAn7-"
   },
   "source": [
    "### Добавление. QR-разложение"
   ]
  },
  {
   "cell_type": "markdown",
   "metadata": {
    "id": "Al3Mv6w8An7-"
   },
   "source": [
    "**QR-разложением** матрицы $A$ (не обязательно квадратной) мы будем называть её представление в виде $A = QR$, где $Q$ — матрица с ортонормированными столбцами, а $R$ - верхнетреугольная матрица.\n",
    "\n",
    "Смысл QR-разложения следующий. Пусть $a_1,\\ldots,a_m$ — столбцы матрицы $A$, $q_1,\\ldots,q_t$ — столбцы матрицы $Q$. Тогда $q_1,\\ldots,q_t$ — это ортонормированный базис в подпространстве, являющемся линейной оболочкой векторов $a_1,\\ldots,a_m$, а в матрице $R$ записаны коэффициенты, с помощью которых $a_i$ выражаются через $q_1,\\ldots,q_t$.\n",
    "\n",
    "Находить QR-разложение заданной матрицы можно разными способами. Мы познакомим Вас не с самым лучшим из них, но по крайней мере с наиболее простым концептуально. Заметим, что ортогональный базис линейной оболочки можно найти с помощью ортогонализации Грама-Шмидта. При этом коэффициенты из матрицы $R$ получаются в качестве побочного продукта этого процесса:\n",
    "\n",
    "```python\n",
    "for j = 1...n:\n",
    "    q_j = a_j\n",
    "    for i = 1,...,j-1:\n",
    "        r_ij = (q_i, a_j)\n",
    "        q_j = q_j - r_ij * q_i\n",
    "    r_jj = |q_j|\n",
    "    if r_jj == 0: # a_j in <a_1,...,a_j-1>\n",
    "        # What would you do in this case?..\n",
    "    q_j = q_j / r_jj\n",
    "```\n",
    "\n",
    "Для нахождения QR-разложения Вы можете использовать библиотечную функцию `scipy.linalg.qr`."
   ]
  },
  {
   "cell_type": "markdown",
   "metadata": {
    "id": "UB3uxms8An7_"
   },
   "source": [
    "Поскольку лабораторная про линейную регрессию, не так-то просто замять вопрос о том, какое же отношение QR-разложение имеет к задаче регрессии. Упомянем одно из возможных применений.\n",
    "\n",
    "Допустим, мы нашли QR-разложение матрицы $X$, а именно: $X = QR$. Тогда\n",
    "$$X^TX = (QR)^T(QR) = R^TQ^TQR = R^TR$$"
   ]
  },
  {
   "cell_type": "markdown",
   "metadata": {
    "id": "2XfyZf8zAn7_"
   },
   "source": [
    "Поскольку в задаче регрессии матрица $X$ обычно полного ранга (то есть её столбцы линейно независимы), матрица $R$ будет квадратной. Благодаря этому нашу обычную формулу для набора регрессионных коэффициентов $\\hat{a}$ можно переписать в следующем виде:\n",
    "\n",
    "$$\\hat{a} = (X^TX)^{-1}X^Ty = (R^TR)^{-1}(QR)^Ty = R^{-1}(R^T)^{-1}R^TQ^Ty = R^{-1}Q^Ty$$\n",
    "\n",
    "Как видите, формула стала проще. Более того, зачастую обращение матрицы $R$ может быть численно более устойчиво, чем обращение матрицы $X^TX$."
   ]
  }
 ],
 "metadata": {
  "colab": {
   "collapsed_sections": [],
   "name": "HSE Lab (linear regression) 21-22.ipynb",
   "provenance": []
  },
  "kernelspec": {
   "display_name": "Python 3",
   "language": "python",
   "name": "python3"
  },
  "language_info": {
   "codemirror_mode": {
    "name": "ipython",
    "version": 3
   },
   "file_extension": ".py",
   "mimetype": "text/x-python",
   "name": "python",
   "nbconvert_exporter": "python",
   "pygments_lexer": "ipython3",
   "version": "3.8.8"
  }
 },
 "nbformat": 4,
 "nbformat_minor": 1
}
